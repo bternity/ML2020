{
 "cells": [
  {
   "cell_type": "markdown",
   "metadata": {},
   "source": [
    "## Pytorch方案"
   ]
  },
  {
   "cell_type": "code",
   "execution_count": 1,
   "metadata": {},
   "outputs": [],
   "source": [
    "import torch\n",
    "import numpy as np\n",
    "from torch import nn\n",
    "from torch.autograd import Variable\n",
    "import torch.nn.functional as F\n",
    "import matplotlib.pyplot as plt\n",
    "import pandas as pd\n",
    "from sklearn.model_selection import train_test_split\n",
    "from sklearn.preprocessing import StandardScaler\n",
    "\n",
    "from tensorboardX import SummaryWriter"
   ]
  },
  {
   "cell_type": "code",
   "execution_count": 2,
   "metadata": {},
   "outputs": [],
   "source": [
    "#维度和大小参数定义\n",
    "batch_size = 600\n",
    "input_dim = 1000\n",
    "output_dim = 1\n",
    "hidden_dim1 = 200\n",
    "hidden_dim2 = 50\n",
    "# 数据虚拟 (x,y)\n",
    "X = np.random.randn(input_dim,batch_size)\n",
    "W = np.random.randn(output_dim,input_dim)\n",
    "y = np.dot(W,X) + np.random.randn(1,batch_size)/10000 #添加偏差项\n",
    "X_t = torch.tensor(X.T).float()\n",
    "y_t = torch.tensor(y.T).float()\n"
   ]
  },
  {
   "cell_type": "code",
   "execution_count": 3,
   "metadata": {},
   "outputs": [
    {
     "data": {
      "text/plain": [
       "(torch.Size([600, 1000]), torch.Size([600, 1]))"
      ]
     },
     "execution_count": 3,
     "metadata": {},
     "output_type": "execute_result"
    }
   ],
   "source": [
    "X_t.shape,y_t.shape"
   ]
  },
  {
   "cell_type": "code",
   "execution_count": 4,
   "metadata": {},
   "outputs": [],
   "source": [
    "class Net(torch.nn.Module):  # 继承 torch 的 Module\n",
    "    def __init__(self, n_feature, n_hidden, n_output):\n",
    "        super(Net, self).__init__()     # 继承 __init__ 功能\n",
    "        # 定义每层用什么样的形式\n",
    "        self.hidden1 = nn.Linear(input_dim,hidden_dim1)   # 隐藏层线性输出1000*200\n",
    "        self.hidden2 = nn.Linear(hidden_dim1,hidden_dim2)\n",
    "        self.predict = nn.Linear(hidden_dim2,output_dim)   # 输出层线性输出 200*1       \n",
    "\n",
    "    def forward(self, x):   # 这同时也是 Module 中的 forward 功能\n",
    "        # 正向传播输入值, 神经网络分析出输出值\n",
    "        x = F.relu(self.hidden1(x))      # 激励函数(隐藏层的线性值)\n",
    "        x = F.relu(self.hidden2(x))\n",
    "        x = self.predict(x)             # 输出值\n",
    "        return x"
   ]
  },
  {
   "cell_type": "code",
   "execution_count": 5,
   "metadata": {},
   "outputs": [
    {
     "name": "stdout",
     "output_type": "stream",
     "text": [
      "Net(\n",
      "  (hidden1): Linear(in_features=1000, out_features=200, bias=True)\n",
      "  (hidden2): Linear(in_features=200, out_features=50, bias=True)\n",
      "  (predict): Linear(in_features=50, out_features=1, bias=True)\n",
      ")\n"
     ]
    }
   ],
   "source": [
    "net = Net(n_feature=input_dim, n_hidden=hidden_dim1, n_output=output_dim)\n",
    "writer = SummaryWriter('D:/python_code/Pytorch')\n",
    "writer_loss = SummaryWriter('D:/python_code/Pytorch/test')\n",
    "\n",
    "with writer:\n",
    "    writer.add_graph(net, (X_t,))\n",
    "print(net)"
   ]
  },
  {
   "cell_type": "code",
   "execution_count": 6,
   "metadata": {},
   "outputs": [],
   "source": [
    "criterion=nn.BCEWithLogitsLoss()\n",
    "optimizer = torch.optim.SGD(net.parameters(), lr=0.002)  # 传入 net的所有参数,学习率\n",
    "loss_func = torch.nn.MSELoss() # 预测值和真实值的误差计算公式 (均方差)"
   ]
  },
  {
   "cell_type": "code",
   "execution_count": 7,
   "metadata": {},
   "outputs": [
    {
     "name": "stdout",
     "output_type": "stream",
     "text": [
      "68\n"
     ]
    }
   ],
   "source": [
    "for t in range(0,1000):\n",
    "    prediction = net(Variable(X_t))     # 喂给 net 训练数据 x, 输出预测值\n",
    "    loss = loss_func(prediction, Variable(y_t))     # 计算两者的误差\n",
    "    writer_loss.add_scalar(\"loss\",loss,global_step=t, walltime=None)#将我们所需要的数据保存在文件里面供可视化使用\n",
    "    optimizer.zero_grad()   # 清空上一步的残余更新参数值\n",
    "    loss.backward()         # 误差反向传播, 计算参数更新值\n",
    "    optimizer.step()        # 将参数更新值施加到 net 的 parameters 上\n",
    "    writer_loss.close()\n",
    "    if loss<1e-4:\n",
    "        break"
   ]
  },
  {
   "cell_type": "code",
   "execution_count": 8,
   "metadata": {},
   "outputs": [
    {
     "data": {
      "text/plain": [
       "tensor(8.2762e-05, grad_fn=<MseLossBackward>)"
      ]
     },
     "execution_count": 8,
     "metadata": {},
     "output_type": "execute_result"
    }
   ],
   "source": [
    "loss"
   ]
  }
 ],
 "metadata": {
  "kernelspec": {
   "display_name": "Python 3",
   "language": "python",
   "name": "python3"
  },
  "language_info": {
   "codemirror_mode": {
    "name": "ipython",
    "version": 3
   },
   "file_extension": ".py",
   "mimetype": "text/x-python",
   "name": "python",
   "nbconvert_exporter": "python",
   "pygments_lexer": "ipython3",
   "version": "3.7.6"
  }
 },
 "nbformat": 4,
 "nbformat_minor": 4
}
