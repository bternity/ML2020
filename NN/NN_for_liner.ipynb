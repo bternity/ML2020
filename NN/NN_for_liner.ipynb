{
 "cells": [
  {
   "cell_type": "markdown",
   "metadata": {},
   "source": [
    "# 神经网络全连接实现方法\n",
    "1. 直接通过numpy实现\n",
    "2. 通过pytorch实现"
   ]
  },
  {
   "cell_type": "markdown",
   "metadata": {},
   "source": [
    "## 1.问题描述\n",
    "训练集为(X,y)，并满足：$ y = WX + random(very-small) $ ,X维度为1000并且变量的最高次数为1,样本大小为600 。现要求通过训练BP神经网络得到等效的$W$。"
   ]
  },
  {
   "cell_type": "markdown",
   "metadata": {},
   "source": [
    "## 2.解决方案\n",
    "1. 形成有一层隐含层的BP神经网络，维度为200\n",
    "2. 数据的80%用于训练，20%用于验证"
   ]
  },
  {
   "cell_type": "markdown",
   "metadata": {},
   "source": [
    "## 3.numpy方案"
   ]
  },
  {
   "cell_type": "markdown",
   "metadata": {},
   "source": [
    "### 3.1数据生成"
   ]
  },
  {
   "cell_type": "code",
   "execution_count": 1,
   "metadata": {},
   "outputs": [
    {
     "name": "stdout",
     "output_type": "stream",
     "text": [
      "(100, 600) (1, 100) (1, 600)\n"
     ]
    }
   ],
   "source": [
    "import numpy as np\n",
    "#维度和大小参数定义\n",
    "batch_size = 600\n",
    "input_dim = 100\n",
    "output_dim = 1\n",
    "hidden_dim = 50\n",
    "\n",
    "# 数据虚拟 (x,y)\n",
    "X = np.random.randn(input_dim,batch_size)\n",
    "W = np.random.randn(output_dim,input_dim)\n",
    "y = np.dot(W,X) + np.random.randn(1,batch_size)/10000 #添加偏差项\n",
    "print(X.shape,W.shape,y.shape)"
   ]
  },
  {
   "cell_type": "markdown",
   "metadata": {},
   "source": [
    "### 3.2训练集以及验证集的生成"
   ]
  },
  {
   "cell_type": "code",
   "execution_count": 2,
   "metadata": {},
   "outputs": [],
   "source": [
    "#Sigmoid函数\n",
    "def Sigm(X):\n",
    "    return np.clip(1 / (1.0 + np.exp(-X)), 1e-8, 1 - (1e-8))\n",
    "\n",
    "#数据正规化\n",
    "def _normalize(X):\n",
    "    X_nor  = np.zeros((X.shape[0],X.shape[1]),dtype=float)\n",
    "    X_mean = np.mean(X,1)\n",
    "    X_std  = np.std(X,1)\n",
    "    for i in range(X.shape[1]):\n",
    "        X_nor[:,i] = (X[:,i] - X_mean)/X_std\n",
    "    return X_nor"
   ]
  },
  {
   "cell_type": "code",
   "execution_count": 3,
   "metadata": {},
   "outputs": [],
   "source": [
    "data_to_t = 0.8\n",
    "k = int(data_to_t*batch_size)\n",
    "\n",
    "X = _normalize(X)\n",
    "y = _normalize(y)\n",
    "X_train = X[:,0:int(k)]\n",
    "y_train = y[:,0:int(k)]\n",
    "X_test = X[:,int(k):batch_size]\n",
    "y_test = y[:,int(k):batch_size]"
   ]
  },
  {
   "cell_type": "markdown",
   "metadata": {},
   "source": [
    "## 3.3网络生成"
   ]
  },
  {
   "cell_type": "code",
   "execution_count": 4,
   "metadata": {},
   "outputs": [
    {
     "data": {
      "text/plain": [
       "((100, 50), (50, 1), (101, 50), (51, 1), (101, 480), (101, 120))"
      ]
     },
     "execution_count": 4,
     "metadata": {},
     "output_type": "execute_result"
    }
   ],
   "source": [
    "w1 = np.random.randn(input_dim,hidden_dim)\n",
    "w2 = np.random.randn(hidden_dim,output_dim)\n",
    "b1 = np.random.randn(1,hidden_dim)\n",
    "b2 = np.random.randn(1,output_dim)\n",
    "x1 = np.ones((1,X_train.shape[1]))\n",
    "x2 = np.ones((1,X_test.shape[1]))\n",
    "w1_h = np.concatenate((w1,b1),axis=0)\n",
    "w2_h = np.concatenate((w2,b2),axis=0)\n",
    "X_train = np.concatenate((X_train,x1),axis=0)\n",
    "X_test = np.concatenate((X_test,x2),axis=0)\n",
    "\n",
    "w1.shape,w2.shape,w1_h.shape,w2_h.shape,X_train.shape,X_test.shape"
   ]
  },
  {
   "cell_type": "code",
   "execution_count": 5,
   "metadata": {},
   "outputs": [
    {
     "data": {
      "text/plain": [
       "((1, 480), (1, 120))"
      ]
     },
     "execution_count": 5,
     "metadata": {},
     "output_type": "execute_result"
    }
   ],
   "source": [
    "x1.shape,x2.shape"
   ]
  },
  {
   "cell_type": "markdown",
   "metadata": {},
   "source": [
    "### 3.4超参数"
   ]
  },
  {
   "cell_type": "code",
   "execution_count": 6,
   "metadata": {},
   "outputs": [],
   "source": [
    "#学习率\n",
    "lr = 1e-1"
   ]
  },
  {
   "cell_type": "markdown",
   "metadata": {},
   "source": [
    "### 3.5网络训练\n",
    "注意点：\n",
    "\n",
    "    1.采用Sigmoid激活函数。\n",
    "    2.所有数据进行正规化 \n",
    "    3.loss函数采用平方损失函数"
   ]
  },
  {
   "cell_type": "code",
   "execution_count": 7,
   "metadata": {},
   "outputs": [],
   "source": [
    "def NNT(X,W1_h,W2_h):\n",
    "    z = np.dot(W1_h.T,X)\n",
    "    A = Sigm(z)\n",
    "    a = np.ones((1,A.shape[1]))\n",
    "    Ah = np.concatenate((A,a),axis=0)\n",
    "    y = np.dot(W2_h.T,Ah)\n",
    "    return z,A,y,Ah\n",
    "\n",
    "def Loss(y,y_train):\n",
    "    return (1/(2*y_train.shape[1]))*np.dot((y - y_train),(y - y_train).T)\n",
    "\n",
    "def dSigm(X):#sigmoid函数的导数\n",
    "    return np.exp(-X) / (1.0 + np.exp(-X))**2\n",
    "\n",
    "def list_to_eye(X):\n",
    "    Xe = np.zeros((X.size,X.size))\n",
    "    for i in range(0,X.size):\n",
    "        Xe[i,i] = X[i]\n",
    "    return Xe\n",
    "\n",
    "def grad_1(y,y_train,X_train,W2,z):\n",
    "    S = np.zeros((X_train.shape[0],W2.shape[0]))\n",
    "    for i in range(0,y_train.shape[1]):\n",
    "        S = S + (y[0,i] - y_train[0,i])*np.dot(np.dot(X_train[:,i].reshape(-1,1),w2.T),list_to_eye(dSigm(z[:,i]).reshape(-1,1)))\n",
    "    return S/y_train.shape[1]\n",
    "\n",
    "def grad_2(y,y_train,Ah):\n",
    "    S = np.zeros((y.shape[0],1))\n",
    "    for i in range(0,y.shape[1]):\n",
    "        S = S + (y[0,i] - y_train[0,i])*Ah[:,1].reshape(-1,1)\n",
    "    return S/y_train.shape[1]"
   ]
  },
  {
   "cell_type": "code",
   "execution_count": 8,
   "metadata": {},
   "outputs": [],
   "source": [
    "loss = []\n",
    "num =[]\n",
    "for i in range(0,1000):\n",
    "    z,a,y,ah = NNT(X_train,w1_h,w2_h)\n",
    "    w1_h = w1_h - lr * grad_1(y,y_train,X_train,w2,z)\n",
    "    w2_h = w2_h - lr * grad_2(y,y_train,ah)\n",
    "    loss.append(Loss(y,y_train))\n",
    "    num.append(i)\n",
    "    if loss[-1] < 1:\n",
    "        break"
   ]
  },
  {
   "cell_type": "code",
   "execution_count": 9,
   "metadata": {},
   "outputs": [
    {
     "data": {
      "image/png": "[encoded data removed]",
      "text/plain": [
       "<Figure size 432x288 with 1 Axes>"
      ]
     },
     "metadata": {
      "needs_background": "light"
     },
     "output_type": "display_data"
    }
   ],
   "source": [
    "import matplotlib as mpl\n",
    "import matplotlib.pyplot as plt\n",
    "\n",
    "num = np.array(num).reshape(1,-1)\n",
    "loss = np.array(loss).reshape(1,-1)\n",
    "plt.scatter(num,loss)\n",
    "plt.show()"
   ]
  }
 ],
 "metadata": {
  "kernelspec": {
   "display_name": "Python 3",
   "language": "python",
   "name": "python3"
  },
  "language_info": {
   "codemirror_mode": {
    "name": "ipython",
    "version": 3
   },
   "file_extension": ".py",
   "mimetype": "text/x-python",
   "name": "python",
   "nbconvert_exporter": "python",
   "pygments_lexer": "ipython3",
   "version": "3.7.6"
  }
 },
 "nbformat": 4,
 "nbformat_minor": 4
}
