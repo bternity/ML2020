{
 "cells": [
  {
   "cell_type": "markdown",
   "metadata": {},
   "source": [
    "# 1.数据生成"
   ]
  },
  {
   "cell_type": "code",
   "execution_count": 1,
   "metadata": {},
   "outputs": [],
   "source": [
    "import numpy as np"
   ]
  },
  {
   "cell_type": "markdown",
   "metadata": {},
   "source": [
    "## 1.1生成变量$x$"
   ]
  },
  {
   "cell_type": "code",
   "execution_count": 2,
   "metadata": {},
   "outputs": [
    {
     "data": {
      "text/plain": [
       "(170, 1)"
      ]
     },
     "execution_count": 2,
     "metadata": {},
     "output_type": "execute_result"
    }
   ],
   "source": [
    "totnub = 170 #数据的数量\n",
    "train_nub = int(totnub * 0.6) #前n个作为训练数据\n",
    "a=-4#图像显示范围\n",
    "b=6\n",
    "np.random.seed(0)\n",
    "X = np.random.normal(size=(totnub,1),scale=1,loc=0.4) - 1 #产生在-1附近按正态分布的20组数据\n",
    "X.shape"
   ]
  },
  {
   "cell_type": "markdown",
   "metadata": {},
   "source": [
    "## 实际函数为    \n",
    "\n",
    "$ y = -x^3 + 3x^2 + 2x + 1 $"
   ]
  },
  {
   "cell_type": "code",
   "execution_count": 3,
   "metadata": {},
   "outputs": [
    {
     "data": {
      "text/plain": [
       "(170,)"
      ]
     },
     "execution_count": 3,
     "metadata": {},
     "output_type": "execute_result"
    }
   ],
   "source": [
    "p = 2 * np.random.random(totnub)#产生噪声\n",
    "p.shape"
   ]
  },
  {
   "cell_type": "code",
   "execution_count": 4,
   "metadata": {},
   "outputs": [
    {
     "data": {
      "text/plain": [
       "(170, 1)"
      ]
     },
     "execution_count": 4,
     "metadata": {},
     "output_type": "execute_result"
    }
   ],
   "source": [
    "Y = -X[:,0]**3 + 3 * X[:,0]**2 + 2 * X[:,0] + 1 + p\n",
    "Y = Y.reshape(totnub,1)\n",
    "Y.shape"
   ]
  },
  {
   "cell_type": "code",
   "execution_count": 5,
   "metadata": {},
   "outputs": [
    {
     "data": {
      "text/plain": [
       "(170, 2)"
      ]
     },
     "execution_count": 5,
     "metadata": {},
     "output_type": "execute_result"
    }
   ],
   "source": [
    "All_data = np.concatenate((X,Y),axis=1)\n",
    "All_data.shape"
   ]
  },
  {
   "cell_type": "markdown",
   "metadata": {},
   "source": [
    "## 1.2 训练数据vs. 测试数据"
   ]
  },
  {
   "cell_type": "code",
   "execution_count": 6,
   "metadata": {},
   "outputs": [],
   "source": [
    "np.random.shuffle(All_data)#打乱数据\n",
    "train_data = All_data[:train_nub,:]\n",
    "test_data = All_data[train_nub:,:]"
   ]
  },
  {
   "cell_type": "code",
   "execution_count": 7,
   "metadata": {},
   "outputs": [
    {
     "data": {
      "text/plain": [
       "((102, 2), (68, 2))"
      ]
     },
     "execution_count": 7,
     "metadata": {},
     "output_type": "execute_result"
    }
   ],
   "source": [
    "train_data.shape,test_data.shape"
   ]
  },
  {
   "cell_type": "code",
   "execution_count": 8,
   "metadata": {},
   "outputs": [
    {
     "data": {
      "text/plain": [
       "Text(0, 0.5, 'Y')"
      ]
     },
     "execution_count": 8,
     "metadata": {},
     "output_type": "execute_result"
    }
   ],
   "source": [
    "import matplotlib.pyplot as plt\n",
    "plt.scatter(train_data[:,0],train_data[:,1],c='g')\n",
    "plt.scatter(test_data[:,0],test_data[:,1],c='r')\n",
    "plt.legend(['train','test'])\n",
    "plt.xlabel('X')\n",
    "plt.ylabel('Y')"
   ]
  },
  {
   "cell_type": "markdown",
   "metadata": {},
   "source": [
    "# 1.3特征提取"
   ]
  },
  {
   "cell_type": "code",
   "execution_count": 9,
   "metadata": {},
   "outputs": [
    {
     "data": {
      "text/plain": [
       "((1, 102), (1, 102), (1, 68), (1, 68))"
      ]
     },
     "execution_count": 9,
     "metadata": {},
     "output_type": "execute_result"
    }
   ],
   "source": [
    "x = train_data[:,0]\n",
    "y = train_data[:,1]\n",
    "x_te = test_data[:,0]\n",
    "y_te = test_data[:,1]\n",
    "x = x.reshape(1,train_nub)\n",
    "y = y.reshape(1,train_nub)\n",
    "x_te = x_te.reshape(1,totnub - train_nub)\n",
    "y_te = y_te.reshape(1,totnub - train_nub)\n",
    "\n",
    "x.shape,y.shape,x_te.shape,y_te.shape"
   ]
  },
  {
   "cell_type": "markdown",
   "metadata": {},
   "source": [
    "# 2.拟合"
   ]
  },
  {
   "cell_type": "markdown",
   "metadata": {},
   "source": [
    "# 2.1一元拟合\n",
    "用$ y = kx + b $拟合数据"
   ]
  },
  {
   "cell_type": "markdown",
   "metadata": {},
   "source": [
    "# 2.1.1 求w过程的程序"
   ]
  },
  {
   "cell_type": "code",
   "execution_count": 10,
   "metadata": {},
   "outputs": [],
   "source": [
    "## 超参数\n",
    "lr = 1e-3"
   ]
  },
  {
   "cell_type": "code",
   "execution_count": 11,
   "metadata": {},
   "outputs": [
    {
     "data": {
      "text/plain": [
       "array([[1.10300532, 0.54836134]])"
      ]
     },
     "execution_count": 11,
     "metadata": {},
     "output_type": "execute_result"
    }
   ],
   "source": [
    "## 初始化w，b，形成W的增广阵\n",
    "w = np.random.normal(size=1)\n",
    "b = np.random.rand()\n",
    "w_hat = np.concatenate((w,np.array([b])))\n",
    "w_hat.reshape(1,2)"
   ]
  },
  {
   "cell_type": "code",
   "execution_count": 12,
   "metadata": {},
   "outputs": [
    {
     "data": {
      "text/plain": [
       "((2, 102), (2, 68))"
      ]
     },
     "execution_count": 12,
     "metadata": {},
     "output_type": "execute_result"
    }
   ],
   "source": [
    "# 训练集x的增广矩阵\n",
    "x_hat = np.concatenate((x,np.ones((1,train_nub))),axis=0)\n",
    "x_hat = x_hat.reshape(2,train_nub)\n",
    "x_te_hat = np.concatenate((x_te,np.ones((1,totnub - train_nub))),axis=0)\n",
    "x_hat.shape,x_te_hat.shape"
   ]
  },
  {
   "cell_type": "markdown",
   "metadata": {},
   "source": [
    "loss函数为：\n",
    "$ L=\\frac{1}{2N}\\sum_n{\\left( y^{\\left( n \\right)}-WX^{\\left( n \\right)} \\right)} $"
   ]
  },
  {
   "cell_type": "code",
   "execution_count": 13,
   "metadata": {},
   "outputs": [
    {
     "data": {
      "text/plain": [
       "8001"
      ]
     },
     "execution_count": 13,
     "metadata": {},
     "output_type": "execute_result"
    }
   ],
   "source": [
    "##主函数\n",
    "w_list =[]\n",
    "loss_list_1 = []\n",
    "loss = 0\n",
    "num = 0\n",
    "\n",
    "while True:\n",
    "    num = num +1\n",
    "    loss = (1 / (2*train_nub)) * np.dot((y - np.dot(w_hat,x_hat)),(y - np.dot(w_hat,x_hat)).T)**2\n",
    "    grad = - np.dot(np.dot(w_hat,x_hat)-y,x_hat.T)\n",
    "    w_hat = w_hat + lr * grad\n",
    "    w_list.append(w_hat)\n",
    "    loss_list_1.append(loss)\n",
    "    if num > 8000 or loss < 100:\n",
    "        break\n",
    "num"
   ]
  },
  {
   "cell_type": "code",
   "execution_count": 14,
   "metadata": {},
   "outputs": [
    {
     "data": {
      "text/plain": [
       "<matplotlib.collections.PathCollection at 0x23562ec2b48>"
      ]
     },
     "execution_count": 14,
     "metadata": {},
     "output_type": "execute_result"
    },
    {
     "data": {
      "image/png": "[encoded data removed]",
      "text/plain": [
       "<Figure size 432x288 with 1 Axes>"
      ]
     },
     "metadata": {},
     "output_type": "display_data"
    }
   ],
   "source": [
    "plt.scatter(range(len(w_list)),loss_list_1)"
   ]
  },
  {
   "cell_type": "code",
   "execution_count": 15,
   "metadata": {},
   "outputs": [
    {
     "data": {
      "text/plain": [
       "array([[-4.33184288,  3.98974033]])"
      ]
     },
     "execution_count": 15,
     "metadata": {},
     "output_type": "execute_result"
    }
   ],
   "source": [
    "w_end = w_list[-1]\n",
    "w_end"
   ]
  },
  {
   "cell_type": "markdown",
   "metadata": {},
   "source": [
    "# 2.1.2 一次模拟数据验证"
   ]
  },
  {
   "cell_type": "code",
   "execution_count": 16,
   "metadata": {},
   "outputs": [],
   "source": [
    "y1_tr = np.dot(w_end,x_hat)\n",
    "dis_1_tr = abs(y1_tr - y)#保存每个数据到线的竖直距离\n",
    "m1_tr = np.mean(dis_1_tr)\n",
    "xgm1_tr = np.var(dis_1_tr)\n",
    "\n",
    "y1_te = np.dot(w_end,x_te_hat)\n",
    "dis_1_te = abs(y1_te - y_te.T)#保存每个数据到线的距离\n",
    "m1_te = np.mean(dis_1_te) #一次模型的均差\n",
    "xgm1_te = np.var(dis_1_te)"
   ]
  },
  {
   "cell_type": "code",
   "execution_count": 17,
   "metadata": {},
   "outputs": [
    {
     "name": "stdout",
     "output_type": "stream",
     "text": [
      "稳定后的loss为： 72236.22267833992\n",
      "训练集均差为 4.078788221060603\n",
      "训练集方差为 20.998530464700004\n",
      "训练集标准差为 4.582415352704293\n",
      "测试集均差为 5.810524845402734\n",
      "测试集方差为 22.93010181717795\n",
      "测试集标准差为 4.788538588878443\n"
     ]
    },
    {
     "data": {
      "image/png": "[encoded data removed]",
      "text/plain": [
       "<Figure size 432x288 with 1 Axes>"
      ]
     },
     "metadata": {},
     "output_type": "display_data"
    }
   ],
   "source": [
    "n=40\n",
    "x2 = (np.array(np.linspace(a,b,n))).reshape(1,n) #注意x2的结构\n",
    "x2_hat = np.concatenate((x2,np.ones((1,n))),axis=0)\n",
    "y2 = (np.dot(w_end,x2_hat)).reshape(1,n)\n",
    "plt.plot(x2.T,y2.T)\n",
    "\n",
    "plt.scatter(train_data[:,0],train_data[:,1],c='g')\n",
    "plt.scatter(test_data[:,0],test_data[:,1],c='r')\n",
    "plt.legend(['result of fitting with $ y = w_1x^3 + w_2x^2 + w_3x + b $','train','test'])\n",
    "plt.xlabel('X')\n",
    "plt.ylabel('Y')\n",
    "print('稳定后的loss为：' , float(loss_list_1[-1]))\n",
    "print('训练集均差为' , m1_tr)\n",
    "print('训练集方差为' , xgm1_tr)\n",
    "print('训练集标准差为', np.std(dis_1_tr))\n",
    "print('测试集均差为' , m1_te)\n",
    "print('测试集方差为' , xgm1_te)\n",
    "print('测试集标准差为' , np.std(dis_1_te))"
   ]
  },
  {
   "cell_type": "markdown",
   "metadata": {},
   "source": [
    "# 2.1.3结论"
   ]
  },
  {
   "cell_type": "markdown",
   "metadata": {},
   "source": [
    "本模型中对于一元拟合，在训练集上有较低的均值和较低的方差，但在测试集上差距比较大。\n",
    "实际上本模型应当处于欠拟合状态，但在该区域结果不明显。"
   ]
  },
  {
   "cell_type": "markdown",
   "metadata": {},
   "source": [
    "# 2.2 用三次函数拟合\n",
    "$ y = w_1x^3 + w_2x^2 + w_3x + b $"
   ]
  },
  {
   "cell_type": "code",
   "execution_count": 18,
   "metadata": {},
   "outputs": [
    {
     "data": {
      "text/plain": [
       "((1, 102), (1, 102))"
      ]
     },
     "execution_count": 18,
     "metadata": {},
     "output_type": "execute_result"
    }
   ],
   "source": [
    "y = y.reshape(1,train_nub)\n",
    "x.shape,y.shape"
   ]
  },
  {
   "cell_type": "code",
   "execution_count": 19,
   "metadata": {},
   "outputs": [
    {
     "data": {
      "text/plain": [
       "array([[ 1.40517731, -0.70714803, -0.45701551,  0.85630298]])"
      ]
     },
     "execution_count": 19,
     "metadata": {},
     "output_type": "execute_result"
    }
   ],
   "source": [
    "## 初始化w，b，形成W的增广阵\n",
    "w = np.random.normal(size=3)\n",
    "b = np.random.rand()\n",
    "w_hat = np.concatenate((w,np.array([b])))\n",
    "w_hat.reshape(1,4)"
   ]
  },
  {
   "cell_type": "code",
   "execution_count": 20,
   "metadata": {},
   "outputs": [
    {
     "data": {
      "text/plain": [
       "((4, 102), (4, 68))"
      ]
     },
     "execution_count": 20,
     "metadata": {},
     "output_type": "execute_result"
    }
   ],
   "source": [
    "# 训练集x的增广矩阵\n",
    "x_hat = np.concatenate((x**3,x**2,x,np.ones((1,train_nub))),axis=0)\n",
    "x_hat = x_hat.reshape(4,train_nub)\n",
    "x_te_hat = np.concatenate((x_te**3,x_te**2,x_te,np.ones((1,totnub - train_nub))),axis=0)\n",
    "x_hat.shape,x_te_hat.shape\n",
    "x_hat.shape,x_te_hat.shape"
   ]
  },
  {
   "cell_type": "code",
   "execution_count": 21,
   "metadata": {},
   "outputs": [],
   "source": [
    "## 超参数\n",
    "lr = 1e-4"
   ]
  },
  {
   "cell_type": "code",
   "execution_count": 22,
   "metadata": {},
   "outputs": [
    {
     "data": {
      "text/plain": [
       "80001"
      ]
     },
     "execution_count": 22,
     "metadata": {},
     "output_type": "execute_result"
    }
   ],
   "source": [
    "##主函数\n",
    "w_list =[]\n",
    "loss_list_3 = []\n",
    "loss = 0\n",
    "num = 0\n",
    "\n",
    "while True:\n",
    "    num = num +1\n",
    "    loss = (1 / (2*train_nub)) * np.dot((y - np.dot(w_hat,x_hat)),(y - np.dot(w_hat,x_hat)).T)**2\n",
    "    grad = - np.dot(np.dot(w_hat,x_hat)-y,x_hat.T)\n",
    "    w_hat = w_hat + lr * grad\n",
    "    w_list.append(w_hat)\n",
    "    loss_list_3.append(loss)\n",
    "    if num > 80000 or loss < 1:\n",
    "        break\n",
    "num"
   ]
  },
  {
   "cell_type": "code",
   "execution_count": 23,
   "metadata": {},
   "outputs": [],
   "source": [
    "w_end = w_list[-1]"
   ]
  },
  {
   "cell_type": "code",
   "execution_count": 24,
   "metadata": {},
   "outputs": [
    {
     "data": {
      "text/plain": [
       "(array([[4.75997455]]),\n",
       " array([[-1.01365684,  2.97225994,  2.05018958,  2.07428448]]))"
      ]
     },
     "execution_count": 24,
     "metadata": {},
     "output_type": "execute_result"
    }
   ],
   "source": [
    "loss_list_3[-1],w_end"
   ]
  },
  {
   "cell_type": "code",
   "execution_count": 25,
   "metadata": {},
   "outputs": [
    {
     "data": {
      "text/plain": [
       "<matplotlib.collections.PathCollection at 0x23563288cc8>"
      ]
     },
     "execution_count": 25,
     "metadata": {},
     "output_type": "execute_result"
    },
    {
     "data": {
      "image/png": "[encoded data removed]",
      "text/plain": [
       "<Figure size 432x288 with 1 Axes>"
      ]
     },
     "metadata": {},
     "output_type": "display_data"
    }
   ],
   "source": [
    "plt.scatter(range(num),loss_list_3)"
   ]
  },
  {
   "cell_type": "markdown",
   "metadata": {},
   "source": [
    "# 2.2.2三次项模拟数据验证"
   ]
  },
  {
   "cell_type": "code",
   "execution_count": 26,
   "metadata": {},
   "outputs": [
    {
     "data": {
      "text/plain": [
       "((4, 102), (4, 68), (1, 102), (1, 68))"
      ]
     },
     "execution_count": 26,
     "metadata": {},
     "output_type": "execute_result"
    }
   ],
   "source": [
    "x_hat.shape,x_te_hat.shape,y.shape,y_te.shape"
   ]
  },
  {
   "cell_type": "code",
   "execution_count": 27,
   "metadata": {},
   "outputs": [],
   "source": [
    "y2_tr = np.dot(w_end,x_hat)\n",
    "dis_2_tr = abs(y2_tr - y)#保存每个数据到线的距离，带正负号\n",
    "m2_tr = np.mean(dis_2_tr)\n",
    "xgm2_tr = np.var(dis_2_tr)\n",
    "\n",
    "y2_te = np.dot(w_end,x_te_hat)\n",
    "dis_2_te = abs(y2_te - y_te.T)#保存每个数据到线的距离，带正负号\n",
    "m2_te = np.mean(dis_2_te) #一次模型的均差\n",
    "xgm2_te = np.var(dis_2_te)"
   ]
  },
  {
   "cell_type": "code",
   "execution_count": 28,
   "metadata": {},
   "outputs": [
    {
     "name": "stdout",
     "output_type": "stream",
     "text": [
      "the loss is 4.759974547612096\n",
      "训练集均差为 0.47842766795180125\n",
      "训练集方差为 0.07661119607832353\n",
      "训练集标准差为 0.27678727586058494\n",
      "测试集均差为 5.831599716245295\n",
      "测试集方差为 34.29487642354467\n",
      "测试集标准差为 5.856182751890917\n"
     ]
    },
    {
     "data": {
      "image/png": "[encoded data removed]",
      "text/plain": [
       "<Figure size 432x288 with 1 Axes>"
      ]
     },
     "metadata": {},
     "output_type": "display_data"
    }
   ],
   "source": [
    "n=40\n",
    "x2 = (np.array(np.linspace(a,b,n))).reshape(1,40) #注意x2的结构\n",
    "x2_hat = np.concatenate((x2**3,x2**2,x2,np.ones((1,n))),axis=0)\n",
    "y2 = (np.dot(w_end,x2_hat)).reshape(1,40)\n",
    "plt.plot(x2.T,y2.T)\n",
    "\n",
    "plt.scatter(train_data[:,0],train_data[:,1],c='g')\n",
    "plt.scatter(test_data[:,0],test_data[:,1],c='r')\n",
    "plt.legend(['result of fitting with $ y = w_1x^3 + w_2x^2 + w_3x + b $','train','test'])\n",
    "plt.xlabel('X')\n",
    "plt.ylabel('Y')\n",
    "print('the loss is' , float(loss_list_3[-1]))\n",
    "print('训练集均差为' , m2_tr)\n",
    "print('训练集方差为' , xgm2_tr)\n",
    "print('训练集标准差为' , np.std(dis_2_tr))\n",
    "print('测试集均差为' , m2_te)\n",
    "print('测试集方差为' , xgm2_te)\n",
    "print('测试集标准差为' , np.std(dis_2_te))"
   ]
  },
  {
   "cell_type": "markdown",
   "metadata": {},
   "source": [
    "# 2.2.3小结"
   ]
  },
  {
   "cell_type": "markdown",
   "metadata": {},
   "source": [
    "相对一次项，三次项在整体上，测试集和训练集无论是在偏差方面还是在方差方面拟合状态都比较好。"
   ]
  },
  {
   "cell_type": "markdown",
   "metadata": {},
   "source": [
    "# 2.3 用5次多项式模拟\n",
    "$ y = WX ,W=(w_1,w_2,w_3,w_4,b) $"
   ]
  },
  {
   "cell_type": "code",
   "execution_count": 29,
   "metadata": {},
   "outputs": [
    {
     "data": {
      "text/plain": [
       "array([[-1.41423684,  0.9533122 , -0.43121105, -0.03607716, -2.02180438,\n",
       "         0.50270954]])"
      ]
     },
     "execution_count": 29,
     "metadata": {},
     "output_type": "execute_result"
    }
   ],
   "source": [
    "## 初始化w，b，形成W的增广阵\n",
    "w = np.random.normal(size=5)\n",
    "b = np.random.rand()\n",
    "w_hat = np.concatenate((w,np.array([b])))\n",
    "w_hat.reshape(1,6)"
   ]
  },
  {
   "cell_type": "code",
   "execution_count": 30,
   "metadata": {},
   "outputs": [
    {
     "data": {
      "text/plain": [
       "((6, 102), (6, 68))"
      ]
     },
     "execution_count": 30,
     "metadata": {},
     "output_type": "execute_result"
    }
   ],
   "source": [
    "# 训练集x的增广矩阵\n",
    "x_hat = np.concatenate((x**5,x**4,x**3,x**2,x,np.ones((1,train_nub))),axis=0)\n",
    "x_hat = x_hat.reshape(6,train_nub)\n",
    "x_te_hat = np.concatenate((x_te**5,x_te**4,x_te**3,x_te**2,x_te,np.ones((1,totnub - train_nub))),axis=0)\n",
    "x_hat.shape,x_te_hat.shape\n",
    "x_hat.shape,x_te_hat.shape"
   ]
  },
  {
   "cell_type": "code",
   "execution_count": 31,
   "metadata": {},
   "outputs": [],
   "source": [
    "## 超参数\n",
    "lr = 1e-6"
   ]
  },
  {
   "cell_type": "code",
   "execution_count": null,
   "metadata": {},
   "outputs": [],
   "source": []
  },
  {
   "cell_type": "code",
   "execution_count": 32,
   "metadata": {},
   "outputs": [
    {
     "data": {
      "text/plain": [
       "80001"
      ]
     },
     "execution_count": 32,
     "metadata": {},
     "output_type": "execute_result"
    }
   ],
   "source": [
    "##主函数\n",
    "w_list =[]\n",
    "loss_list_5 = []\n",
    "loss = 0\n",
    "num = 0\n",
    "\n",
    "while True:\n",
    "    num = num +1\n",
    "    loss = (1 / (2*train_nub)) * np.dot((y - np.dot(w_hat,x_hat)),(y - np.dot(w_hat,x_hat)).T)**2\n",
    "    grad = - np.dot(np.dot(w_hat,x_hat)-y,x_hat.T)\n",
    "    w_hat = w_hat + lr * grad\n",
    "    w_list.append(w_hat)\n",
    "    loss_list_5.append(loss)\n",
    "    if num > 80000 or loss < 1:\n",
    "        break\n",
    "num"
   ]
  },
  {
   "cell_type": "code",
   "execution_count": 33,
   "metadata": {},
   "outputs": [
    {
     "data": {
      "text/plain": [
       "(array([[25.0513672]]),\n",
       " array([[ 0.09141702,  0.5770448 , -0.39321354,  1.58474246,  0.30336977,\n",
       "          2.27290025]]))"
      ]
     },
     "execution_count": 33,
     "metadata": {},
     "output_type": "execute_result"
    }
   ],
   "source": [
    "w_end = w_list[-1]\n",
    "loss_list_5[-1],w_end"
   ]
  },
  {
   "cell_type": "code",
   "execution_count": 34,
   "metadata": {},
   "outputs": [
    {
     "data": {
      "text/plain": [
       "<matplotlib.collections.PathCollection at 0x23563335348>"
      ]
     },
     "execution_count": 34,
     "metadata": {},
     "output_type": "execute_result"
    },
    {
     "data": {
      "image/png": "[encoded data removed]",
      "text/plain": [
       "<Figure size 432x288 with 1 Axes>"
      ]
     },
     "metadata": {},
     "output_type": "display_data"
    }
   ],
   "source": [
    "plt.scatter(range(num),loss_list_5)"
   ]
  },
  {
   "cell_type": "code",
   "execution_count": 35,
   "metadata": {},
   "outputs": [],
   "source": [
    "y3_tr = np.dot(w_end,x_hat)\n",
    "dis_3_tr = abs(y3_tr - y)#保存每个数据到线的距离，带正负号\n",
    "m3_tr = np.mean(dis_3_tr)\n",
    "xgm3_tr = np.var(dis_3_tr)\n",
    "\n",
    "y3_te = np.dot(w_end,x_te_hat)\n",
    "dis_3_te = abs(y3_te - y_te.T)#保存每个数据到线的距离，带正负号\n",
    "m3_te = np.mean(dis_3_te) #一次模型的均差\n",
    "xgm3_te = np.var(dis_3_te)"
   ]
  },
  {
   "cell_type": "code",
   "execution_count": 36,
   "metadata": {},
   "outputs": [
    {
     "name": "stdout",
     "output_type": "stream",
     "text": [
      "the loss is 4.759974547612096\n",
      "训练集均差为 0.6602748057995962\n",
      "训练集方差为 0.2648877645822944\n",
      "训练集标准差为 0.5146724828299006\n",
      "测试集均差为 5.700136968179381\n",
      "测试集方差为 33.90175516861109\n",
      "测试集标准差为 5.822521375539217\n"
     ]
    },
    {
     "data": {
      "image/png": "[encoded data removed]",
      "text/plain": [
       "<Figure size 432x288 with 1 Axes>"
      ]
     },
     "metadata": {},
     "output_type": "display_data"
    }
   ],
   "source": [
    "n=40\n",
    "x2 = (np.array(np.linspace(a,b,n))).reshape(1,n) #注意x2的结构\n",
    "x2_hat = np.concatenate((x2**5,x2**4,x2**3,x2**2,x2,np.ones((1,n))),axis=0)\n",
    "y2 = (np.dot(w_end,x2_hat)).reshape(1,n)\n",
    "plt.plot(x2.T,y2.T)\n",
    "\n",
    "plt.scatter(train_data[:,0],train_data[:,1],c='g')\n",
    "plt.scatter(test_data[:,0],test_data[:,1],c='r')\n",
    "plt.legend(['result of fitting with $ y = w_1x^3 + w_2x^2 + w_3x + b $','train','test'])\n",
    "plt.xlabel('X')\n",
    "plt.ylabel('Y')\n",
    "print('the loss is' , float(loss_list_3[-1]))\n",
    "print('训练集均差为' , m3_tr)\n",
    "print('训练集方差为' , xgm3_tr)\n",
    "print('训练集标准差为' , np.std(dis_3_tr))\n",
    "print('测试集均差为' , m3_te)\n",
    "print('测试集方差为' , xgm3_te)\n",
    "print('测试集标准差为' , np.std(dis_3_te))"
   ]
  },
  {
   "cell_type": "code",
   "execution_count": 37,
   "metadata": {},
   "outputs": [
    {
     "data": {
      "text/plain": [
       "array([[ 0.09141702,  0.5770448 , -0.39321354,  1.58474246,  0.30336977,\n",
       "         2.27290025]])"
      ]
     },
     "execution_count": 37,
     "metadata": {},
     "output_type": "execute_result"
    }
   ],
   "source": [
    "w_end"
   ]
  }
 ],
 "metadata": {
  "kernelspec": {
   "display_name": "Python 3",
   "language": "python",
   "name": "python3"
  },
  "language_info": {
   "codemirror_mode": {
    "name": "ipython",
    "version": 3
   },
   "file_extension": ".py",
   "mimetype": "text/x-python",
   "name": "python",
   "nbconvert_exporter": "python",
   "pygments_lexer": "ipython3",
   "version": "3.7.6"
  }
 },
 "nbformat": 4,
 "nbformat_minor": 4
}
