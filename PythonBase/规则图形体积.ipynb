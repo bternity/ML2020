{
 "cells": [
  {
   "cell_type": "code",
   "execution_count": 1,
   "metadata": {},
   "outputs": [],
   "source": [
    "import numpy as np"
   ]
  },
  {
   "cell_type": "code",
   "execution_count": 31,
   "metadata": {},
   "outputs": [],
   "source": [
    "d1 = 1\n",
    "d2 = 2\n",
    "h1 = 3.4\n",
    "h2 = 0.5\n",
    "h3 = 0.3"
   ]
  },
  {
   "cell_type": "code",
   "execution_count": 32,
   "metadata": {},
   "outputs": [
    {
     "name": "stdout",
     "output_type": "stream",
     "text": [
      "上直径：1.000000 m,下直径：2.000000 m，高度分别为：3.400000 m，0.500000 m，0.300000m的几何体积V为：4.196165\n",
      "从上向下，体积分别为： (2.67035371, 0.5833333333333333, 0.9424777799999999)\n"
     ]
    }
   ],
   "source": [
    "v1 = 0.25*3.1415926*d1*d1*h1\n",
    "v2 = (1/12)*(d1*d1+d2*d2+d1*d2)\n",
    "v3 = 0.25*3.1415926*d2*d2*h3\n",
    "v = v1 +v2 +v3\n",
    "print('上直径：%f m,下直径：%f m，高度分别为：%f m，%f m，%fm的几何体积V为：%f'%(d1,d2,h1,h2,h3,v))\n",
    "print('从上向下，体积分别为：', (v1,v2,v3))\n"
   ]
  }
 ],
 "metadata": {
  "kernelspec": {
   "display_name": "Python 3",
   "language": "python",
   "name": "python3"
  },
  "language_info": {
   "codemirror_mode": {
    "name": "ipython",
    "version": 3
   },
   "file_extension": ".py",
   "mimetype": "text/x-python",
   "name": "python",
   "nbconvert_exporter": "python",
   "pygments_lexer": "ipython3",
   "version": "3.7.6"
  }
 },
 "nbformat": 4,
 "nbformat_minor": 4
}
