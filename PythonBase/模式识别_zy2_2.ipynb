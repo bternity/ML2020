{
 "cells": [
  {
   "cell_type": "code",
   "execution_count": 1,
   "metadata": {},
   "outputs": [],
   "source": [
    "import numpy as np\n",
    "import matplotlib as mpl\n",
    "import math\n",
    "import matplotlib.pyplot as plt"
   ]
  },
  {
   "cell_type": "code",
   "execution_count": 2,
   "metadata": {},
   "outputs": [],
   "source": [
    "x=(4.6019, 5.2564, 5.2200, 3.2886, 3.7942,\n",
    "3.2271, 4.9275, 3.2789, 5.7019, 3.9945,\n",
    "3.8936, 6.7906, 7.1624, 4.1807, 4.9630,\n",
    "6.9630, 4.4597, 6.7175, 5.8198, 5.0555,\n",
    "4.6469, 6.6931, 5.7111, 4.3672, 5.3927,\n",
    "4.1220, 5.1489, 6.5319, 5.5318, 4.2403,\n",
    "5.3480, 4.3022, 7.0193, 3.2063, 4.3405,\n",
    "5.7715, 4.1797, 5.0179, 5.6545, 6.2577,\n",
    "4.0729, 4.8301, 4.5283, 4.8858, 5.3695,\n",
    "4.3814, 5.8001, 5.4267, 4.5277, 5.2760)\n",
    "x=np.array(x,dtype=float)"
   ]
  },
  {
   "cell_type": "code",
   "execution_count": 3,
   "metadata": {},
   "outputs": [],
   "source": [
    "#方框参数\n",
    "n=50;hn=100"
   ]
  },
  {
   "cell_type": "code",
   "execution_count": 4,
   "metadata": {},
   "outputs": [],
   "source": [
    "#高斯窗参数\n",
    "n_g=50;h_g=100"
   ]
  },
  {
   "cell_type": "code",
   "execution_count": 5,
   "metadata": {},
   "outputs": [],
   "source": [
    "def re_p(x,mu):\n",
    "    K = np.abs(x - mu)\n",
    "    K_s = 0\n",
    "    for i in range(0,np.size(x)-1):\n",
    "        if K[i] <= hn/2:\n",
    "            K_s += 1\n",
    "    return K_s"
   ]
  },
  {
   "cell_type": "code",
   "execution_count": 6,
   "metadata": {},
   "outputs": [],
   "source": [
    "def re_ztp(x,mu,h,n):\n",
    "    K = np.zeros((np.size(x)))\n",
    "    hn = h/n**0.5\n",
    "    for i in range(0,np.size(x)-1):\n",
    "        K[i] = math.exp(-(x[i]-mu)**2/(2*hn**2))/((2*3.1415926)**0.5)#fai(x)\n",
    "    K_s = sum(K)\n",
    "    \n",
    "    return K_s"
   ]
  },
  {
   "cell_type": "code",
   "execution_count": 7,
   "metadata": {},
   "outputs": [],
   "source": [
    "#方窗主函数\n",
    "star_point=2\n",
    "end_point =8\n",
    "Vn = hn**1\n",
    "p_x = np.arange(star_point,end_point,0.001)\n",
    "pr = np.zeros((np.size(p_x)))\n",
    "for i in range(0,np.size(p_x)):\n",
    "    pr[i] = re_p(x,p_x[i])/(n*Vn)    "
   ]
  },
  {
   "cell_type": "code",
   "execution_count": 8,
   "metadata": {},
   "outputs": [
    {
     "data": {
      "image/png": "[encoded data removed]",
      "text/plain": [
       "<Figure size 432x288 with 1 Axes>"
      ]
     },
     "metadata": {
      "needs_background": "light"
     },
     "output_type": "display_data"
    }
   ],
   "source": [
    "plt.rcParams['font.sans-serif']=['SimHei']\n",
    "plt.rcParams['axes.unicode_minus'] = False\n",
    "#matplotlib画图中中文显示会有问题，需要这两行设置默认字体\n",
    "\n",
    "plt.xlabel('X')\n",
    "plt.ylabel('$p_n(X)$')\n",
    "plt.title('hn取%f时的方窗概率密度分步'%hn)\n",
    "\n",
    "colors1 = '#00CED1' #点的颜色\n",
    "colors2 = '#DC143C'\n",
    "area = np.pi * 1**2  # 点面积 \n",
    "\n",
    "plt.scatter(p_x,pr, s=area, c=colors1, alpha=0.4, label='w1')\n",
    "\n",
    "#plt.savefig(r'C:\\Users\\13969\\Desktop\\研究生课程\\秋\\模式识别\\课件\\3.png', dpi=600)\n",
    "plt.show()"
   ]
  },
  {
   "cell_type": "code",
   "execution_count": 9,
   "metadata": {},
   "outputs": [],
   "source": [
    "#高斯窗主函数\n",
    "star_point=2\n",
    "end_point =8\n",
    "Vn = h_g**1\n",
    "p_x_g = np.arange(star_point,end_point,0.001)\n",
    "pr_g = np.zeros((np.size(p_x)))\n",
    "for i in range(0,np.size(p_x)):\n",
    "    pr_g[i] = re_ztp(x,p_x[i],h_g,n_g)/(n*Vn)    "
   ]
  },
  {
   "cell_type": "code",
   "execution_count": 10,
   "metadata": {},
   "outputs": [
    {
     "data": {
      "image/png": "[encoded data removed]",
      "text/plain": [
       "<Figure size 432x288 with 1 Axes>"
      ]
     },
     "metadata": {
      "needs_background": "light"
     },
     "output_type": "display_data"
    }
   ],
   "source": [
    "plt.rcParams['font.sans-serif']=['SimHei']\n",
    "plt.rcParams['axes.unicode_minus'] = False\n",
    "#matplotlib画图中中文显示会有问题，需要这两行设置默认字体\n",
    "\n",
    "plt.xlabel('X')\n",
    "plt.ylabel('$p_n(X)$')\n",
    "plt.title('h取%f时，n取%f时的高斯概率概率分步'%(h_g,n_g))\n",
    "\n",
    "colors1 = '#00CED1' #点的颜色\n",
    "colors2 = '#DC143C'\n",
    "area = np.pi * 1**2  # 点面积 \n",
    "\n",
    "plt.scatter(p_x_g,pr_g, s=area, c=colors2, alpha=0.4, label='w1')\n",
    "\n",
    "#plt.savefig(r'C:\\Users\\13969\\Desktop\\研究生课程\\秋\\模式识别\\课件\\3.png', dpi=600)\n",
    "plt.show()"
   ]
  }
 ],
 "metadata": {
  "kernelspec": {
   "display_name": "Python 3",
   "language": "python",
   "name": "python3"
  },
  "language_info": {
   "codemirror_mode": {
    "name": "ipython",
    "version": 3
   },
   "file_extension": ".py",
   "mimetype": "text/x-python",
   "name": "python",
   "nbconvert_exporter": "python",
   "pygments_lexer": "ipython3",
   "version": "3.7.6"
  }
 },
 "nbformat": 4,
 "nbformat_minor": 4
}
