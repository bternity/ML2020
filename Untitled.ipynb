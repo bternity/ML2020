{
 "cells": [
  {
   "cell_type": "code",
   "execution_count": 1,
   "metadata": {},
   "outputs": [],
   "source": [
    "# Import需要的套件\n",
    "import os\n",
    "import numpy as np\n",
    "import cv2\n",
    "import torch\n",
    "import torch.nn as nn\n",
    "import torchvision.transforms as transforms\n",
    "import pandas as pd\n",
    "from torch.utils.data import DataLoader, Dataset\n",
    "import math, time\n",
    "import torchvision.models as models\n",
    "from sklearn.metrics import mean_squared_error\n",
    "\n",
    "from sklearn.preprocessing import StandardScaler\n",
    "from tensorboardX import SummaryWriter\n",
    "\n",
    "import matplotlib as mpl\n",
    "import matplotlib.pyplot as plt\n",
    "\n",
    "from sklearn.preprocessing import MinMaxScaler"
   ]
  },
  {
   "cell_type": "code",
   "execution_count": 2,
   "metadata": {},
   "outputs": [],
   "source": [
    "#数据集形成\n",
    "c1 = [[ 1.58, 2.32, -5.8], [ 0.67, 1.58, -4.78], [ 1.04, 1.01, -3.63],\n",
    "[-1.49, 2.18, -3.39], [-0.41, 1.21, -4.73], [1.39, 3.16, 2.87],\n",
    "[ 1.20, 1.40, -1.89], [-0.92, 1.44, -3.22], [ 0.45, 1.33, -4.38],\n",
    "[-0.76, 0.84, -1.96]]\n",
    "\n",
    "c2 = [[ 0.21, 0.03, -2.21], [ 0.37, 0.28, -1.8], [ 0.18, 1.22, 0.16],\n",
    "[-0.24, 0.93, -1.01], [-1.18, 0.39, -0.39], [0.74, 0.96, -1.16],\n",
    "[-0.38, 1.94, -0.48], [0.02, 0.72, -0.17], [ 0.44, 1.31, -0.14],\n",
    "[ 0.46, 1.49, 0.68]]\n",
    "\n",
    "c3 = [[-1.54, 1.17, 0.64], [5.41, 3.45, -1.33], [ 1.55, 0.99, 2.69],\n",
    "[1.86, 3.19, 1.51], [1.68, 1.79, -0.87], [3.51, -0.22, -1.39],\n",
    "[1.40, -0.44, -0.92], [0.44, 0.83, 1.97], [ 0.25, 0.68, -0.99],\n",
    "[ 0.66, -0.45, 0.08]]\n",
    "\n",
    "hat_one = hat_one = np.ones(10).reshape(-1,1)\n",
    "\n",
    "c1_h = np.array(np.concatenate([c1,hat_one],axis=1))\n",
    "c2_h = np.array(np.concatenate([c2,2*hat_one],axis=1))\n",
    "c3_h = np.array(np.concatenate([c3,3*hat_one],axis=1))\n",
    "\n",
    "C = np.concatenate([c1_h,c2_h,c3_h],axis=0)\n",
    "np.random.shuffle(C)"
   ]
  },
  {
   "cell_type": "code",
   "execution_count": 3,
   "metadata": {},
   "outputs": [],
   "source": [
    "#隐含层节点数\n",
    "in_dim  = 3\n",
    "n_hidden_1 = 6\n",
    "out_dim = 1\n",
    "lr = 0.5 #学习率\n",
    "w_ih = np.random.rand(in_node,hid_node)\n",
    "w_ho = np.random.rand(hid_node,out_node)"
   ]
  },
  {
   "cell_type": "code",
   "execution_count": 4,
   "metadata": {},
   "outputs": [],
   "source": [
    "class Activation_Net(nn.Module):\n",
    "    def __init__(self, in_dim, n_hidden_1, out_dim):\n",
    "        super(Activation_Net, self).__init__()\n",
    "        self.layer1 = nn.Sequential(nn.Linear(in_dim, n_hidden_1), nn.Sigmoid)\n",
    "        self.layer2 = nn.Sequential(nn.Linear(n_hidden_1, out_dim))\n",
    "        \"\"\"\n",
    "        这里的Sequential()函数的功能是将网络的层组合到一起。\n",
    "        \"\"\"\n",
    " \n",
    "    def forward(self, x):\n",
    "        x = self.layer1(x)\n",
    "        x = self.layer2(x)\n",
    "        return x"
   ]
  },
  {
   "cell_type": "code",
   "execution_count": 5,
   "metadata": {},
   "outputs": [
    {
     "data": {
      "text/plain": [
       "\u001b[1;31mInit signature:\u001b[0m \u001b[0mnn\u001b[0m\u001b[1;33m.\u001b[0m\u001b[0mSigmoid\u001b[0m\u001b[1;33m(\u001b[0m\u001b[1;33m)\u001b[0m\u001b[1;33m\u001b[0m\u001b[1;33m\u001b[0m\u001b[0m\n",
       "\u001b[1;31mDocstring:\u001b[0m     \n",
       "Applies the element-wise function:\n",
       "\n",
       ".. math::\n",
       "    \\text{Sigmoid}(x) = \\sigma(x) = \\frac{1}{1 + \\exp(-x)}\n",
       "\n",
       "\n",
       "Shape:\n",
       "    - Input: :math:`(N, *)` where `*` means, any number of additional\n",
       "      dimensions\n",
       "    - Output: :math:`(N, *)`, same shape as the input\n",
       "\n",
       ".. image:: scripts/activation_images/Sigmoid.png\n",
       "\n",
       "Examples::\n",
       "\n",
       "    >>> m = nn.Sigmoid()\n",
       "    >>> input = torch.randn(2)\n",
       "    >>> output = m(input)\n",
       "\u001b[1;31mInit docstring:\u001b[0m Initializes internal Module state, shared by both nn.Module and ScriptModule.\n",
       "\u001b[1;31mFile:\u001b[0m           e:\\anaconda\\envs\\pytorch\\lib\\site-packages\\torch\\nn\\modules\\activation.py\n",
       "\u001b[1;31mType:\u001b[0m           type\n",
       "\u001b[1;31mSubclasses:\u001b[0m     \n"
      ]
     },
     "metadata": {},
     "output_type": "display_data"
    }
   ],
   "source": []
  }
 ],
 "metadata": {
  "kernelspec": {
   "display_name": "Python 3",
   "language": "python",
   "name": "python3"
  },
  "language_info": {
   "codemirror_mode": {
    "name": "ipython",
    "version": 3
   },
   "file_extension": ".py",
   "mimetype": "text/x-python",
   "name": "python",
   "nbconvert_exporter": "python",
   "pygments_lexer": "ipython3",
   "version": "3.7.6"
  }
 },
 "nbformat": 4,
 "nbformat_minor": 4
}
