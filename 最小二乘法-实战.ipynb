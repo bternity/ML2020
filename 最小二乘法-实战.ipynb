{
 "cells": [
  {
   "cell_type": "markdown",
   "metadata": {},
   "source": [
    "# 最小二乘法求\n",
    "$y=4x+2+R$  ,-1<R<1"
   ]
  },
  {
   "cell_type": "code",
   "execution_count": 1,
   "metadata": {},
   "outputs": [],
   "source": [
    "import numpy as np"
   ]
  },
  {
   "cell_type": "code",
   "execution_count": 2,
   "metadata": {},
   "outputs": [
    {
     "data": {
      "text/plain": [
       "(100, 1)"
      ]
     },
     "execution_count": 2,
     "metadata": {},
     "output_type": "execute_result"
    }
   ],
   "source": [
    "np.random.seed(0)\n",
    "X = np.random.normal(size=(100,1),scale=1)\n",
    "#X = X + RA\n",
    "X.shape"
   ]
  },
  {
   "cell_type": "code",
   "execution_count": 3,
   "metadata": {},
   "outputs": [
    {
     "data": {
      "text/plain": [
       "(100,)"
      ]
     },
     "execution_count": 3,
     "metadata": {},
     "output_type": "execute_result"
    }
   ],
   "source": [
    "X[:,0].shape"
   ]
  },
  {
   "cell_type": "code",
   "execution_count": 4,
   "metadata": {},
   "outputs": [
    {
     "data": {
      "text/plain": [
       "(array([-0.1522899 ,  0.21278643, -0.9616136 , -0.39685037,  0.32034707,\n",
       "        -0.41984479,  0.23603086, -0.1424626 , -0.72905187, -0.40343535,\n",
       "         0.13992982,  0.18174552,  0.1486505 ,  0.30640164,  0.30420654,\n",
       "        -0.13716313,  0.79309319, -0.26487626, -0.12827015,  0.78384671,\n",
       "         0.61238798,  0.40777717, -0.79954623,  0.83896523,  0.4284826 ,\n",
       "         0.99769401, -0.70110339,  0.73625211, -0.67501413,  0.23111913,\n",
       "        -0.75236003,  0.69601646,  0.61463792,  0.13820148, -0.18563341,\n",
       "        -0.86166601,  0.39485755, -0.09291463,  0.4441112 ,  0.73276465,\n",
       "         0.95104301,  0.71160668, -0.97657183, -0.28004387,  0.45998112,\n",
       "        -0.65674065,  0.04207321, -0.89132402, -0.60000695, -0.96295641,\n",
       "         0.58739541, -0.55215062, -0.30929664,  0.85616259,  0.4088288 ,\n",
       "        -0.93632214, -0.67061169,  0.2429568 ,  0.15445718, -0.52421436,\n",
       "         0.868428  ,  0.22793191,  0.07126561,  0.17981995,  0.46024406,\n",
       "        -0.37611001, -0.20355788, -0.5803125 , -0.62761399,  0.88874478,\n",
       "         0.47910159, -0.01908238, -0.54517074, -0.49128704, -0.88394168,\n",
       "        -0.13116675, -0.37640824,  0.39268698, -0.24449632, -0.64079264,\n",
       "        -0.95064254, -0.86550074,  0.35878555, -0.09260631,  0.07315842,\n",
       "         0.79334259,  0.98067789, -0.56620603,  0.32615641, -0.47335525,\n",
       "        -0.958698  ,  0.51675731, -0.3599657 , -0.23307221,  0.17663423,\n",
       "         0.66209691,  0.25796369,  0.74530131, -0.45291593,  0.59609367]),\n",
       " array([ 8.90391948,  3.81341526,  4.95333833, 10.56672243,  9.79057904,\n",
       "        -2.32895631,  6.03638453,  1.25210857,  0.85807272,  3.23895866,\n",
       "         2.71610411,  7.99883955,  5.1928014 ,  2.79310171,  4.07965947,\n",
       "         3.19753418,  8.76940948,  0.91449069,  3.12400066, -0.63253625,\n",
       "        -7.59957129,  5.02225155,  4.65819857, -0.12969485, 11.5075011 ,\n",
       "        -2.81976869,  1.48193068,  1.98751671,  7.45610273,  8.10855421,\n",
       "         1.86742967,  4.20866654, -0.93650507, -5.7849844 ,  0.422718  ,\n",
       "         1.76372987,  7.31602027,  6.71660476,  0.89480393,  1.52355365,\n",
       "        -1.24316885, -2.96846506, -5.80165259,  9.52305771,  0.4213724 ,\n",
       "        -0.40903785, -2.96910823,  4.2186374 , -5.05559834,  0.18608247,\n",
       "        -0.99447084,  2.99545937, -0.35251719, -1.86636615,  2.29609989,\n",
       "         2.77700534,  1.5954572 ,  3.45284439, -0.3828312 ,  0.02482098,\n",
       "         0.1785862 ,  0.78971927, -1.18131952, -4.72531046,  3.16994863,\n",
       "         0.01676625, -4.72435126,  3.27081652, -2.25680745,  3.09652636,\n",
       "         5.39546384,  2.49684926,  6.01243199, -3.43059032,  2.72542489,\n",
       "        -0.87040711, -1.85959683,  0.07728832,  0.50929355,  1.58386872,\n",
       "        -3.61124191,  4.73780521,  4.22143531, -4.23758106,  8.0261672 ,\n",
       "        10.37689929,  7.69579618,  0.71409463, -1.95685408,  5.74445166,\n",
       "        -0.57140579,  7.40653759,  2.47313421,  5.67348393,  3.60209982,\n",
       "         5.48838958,  2.29996377,  9.88878329,  2.05473244,  4.20405112]))"
      ]
     },
     "execution_count": 4,
     "metadata": {},
     "output_type": "execute_result"
    }
   ],
   "source": [
    "Y = 4 * X[:,0]+ 2 \n",
    "RA = np.random.random(100)*2-1\n",
    "Y=RA+Y\n",
    "RA,Y"
   ]
  },
  {
   "cell_type": "code",
   "execution_count": 5,
   "metadata": {},
   "outputs": [
    {
     "data": {
      "text/plain": [
       "<matplotlib.collections.PathCollection at 0x13ec7e82cc8>"
      ]
     },
     "execution_count": 5,
     "metadata": {},
     "output_type": "execute_result"
    },
    {
     "data": {
      "image/png": "[encoded data removed]",
      "text/plain": [
       "<Figure size 432x288 with 1 Axes>"
      ]
     },
     "metadata": {
      "needs_background": "light"
     },
     "output_type": "display_data"
    }
   ],
   "source": [
    "import matplotlib.pyplot as plt\n",
    "plt.scatter(X,Y)"
   ]
  },
  {
   "cell_type": "code",
   "execution_count": 6,
   "metadata": {},
   "outputs": [
    {
     "data": {
      "text/plain": [
       "(100, 2)"
      ]
     },
     "execution_count": 6,
     "metadata": {},
     "output_type": "execute_result"
    }
   ],
   "source": [
    "#数据拼接\n",
    "All_data = np.concatenate((X,Y.reshape(100,1)),axis=1)\n",
    "All_data.shape"
   ]
  },
  {
   "cell_type": "code",
   "execution_count": 7,
   "metadata": {},
   "outputs": [],
   "source": [
    "#拆分训练集和测试集\n",
    "np.random.shuffle(All_data)#打乱数据\n",
    "train_data = All_data[:70,:]\n",
    "test_data = All_data[70:,:]"
   ]
  },
  {
   "cell_type": "code",
   "execution_count": 8,
   "metadata": {},
   "outputs": [
    {
     "data": {
      "text/plain": [
       "((70, 2), (30, 2))"
      ]
     },
     "execution_count": 8,
     "metadata": {},
     "output_type": "execute_result"
    }
   ],
   "source": [
    "train_data.shape,test_data.shape"
   ]
  },
  {
   "cell_type": "markdown",
   "metadata": {},
   "source": [
    "## 1.1构造模型\n",
    "$y = w \\times X + b$"
   ]
  },
  {
   "cell_type": "code",
   "execution_count": 9,
   "metadata": {},
   "outputs": [
    {
     "data": {
      "text/plain": [
       "(array([-0.78508653]), 0.12065699118611972)"
      ]
     },
     "execution_count": 9,
     "metadata": {},
     "output_type": "execute_result"
    }
   ],
   "source": [
    "#随机初始化参数\n",
    "w = np.random.normal(size=(1)) #结果是数组\n",
    "b = np.random.rand() #结果是一个数\n",
    "w,b"
   ]
  },
  {
   "cell_type": "markdown",
   "metadata": {},
   "source": [
    "## 1.2定义损失函数\n",
    "$Loss = 0.5*\\sum{(y-Wx)^2}$"
   ]
  },
  {
   "cell_type": "code",
   "execution_count": 10,
   "metadata": {},
   "outputs": [],
   "source": [
    "#超参数\n",
    "lr = 0.0001 #学习率"
   ]
  },
  {
   "cell_type": "code",
   "execution_count": 11,
   "metadata": {},
   "outputs": [
    {
     "data": {
      "text/plain": [
       "array([-0.78508653,  0.12065699])"
      ]
     },
     "execution_count": 11,
     "metadata": {},
     "output_type": "execute_result"
    }
   ],
   "source": [
    "#构造增广向量\n",
    "W_hat = np.concatenate((w,np.array([b])))\n",
    "W_hat"
   ]
  },
  {
   "cell_type": "code",
   "execution_count": 12,
   "metadata": {},
   "outputs": [
    {
     "data": {
      "text/plain": [
       "(array([[-0.78508653],\n",
       "        [ 0.12065699]]),\n",
       " (2, 1))"
      ]
     },
     "execution_count": 12,
     "metadata": {},
     "output_type": "execute_result"
    }
   ],
   "source": [
    "W_hat = W_hat.reshape(2,1)\n",
    "W_hat,W_hat.shape"
   ]
  },
  {
   "cell_type": "code",
   "execution_count": 13,
   "metadata": {},
   "outputs": [
    {
     "data": {
      "text/plain": [
       "((1, 70), (70, 1))"
      ]
     },
     "execution_count": 13,
     "metadata": {},
     "output_type": "execute_result"
    }
   ],
   "source": [
    "X = train_data[:,:-1]\n",
    "X = X.reshape(1,70)\n",
    "Y = train_data[:,-1]\n",
    "Y = Y.reshape(70,1)\n",
    "X.shape,Y.shape"
   ]
  },
  {
   "cell_type": "code",
   "execution_count": 14,
   "metadata": {},
   "outputs": [
    {
     "data": {
      "text/plain": [
       "(2, 70)"
      ]
     },
     "execution_count": 14,
     "metadata": {},
     "output_type": "execute_result"
    }
   ],
   "source": [
    "#特征向量\n",
    "X_hat = np.concatenate((X,np.ones((1,70))),axis=0)\n",
    "X_hat.shape"
   ]
  },
  {
   "cell_type": "code",
   "execution_count": 15,
   "metadata": {},
   "outputs": [],
   "source": [
    "Num = 0\n",
    "w_list = []\n",
    "b_list = []\n",
    "loss_list = []\n",
    "while True:\n",
    "    Num = Num + 1\n",
    "    #迭代W\n",
    "    W_hat = W_hat + lr * np.dot( X_hat , ( Y - np.dot(X_hat.T,W_hat) ) )\n",
    "    #计算loss值\n",
    "    loss = np.sum((Y - np.dot(X_hat.T,W_hat))**2)/2\n",
    "    w_list.append(W_hat[0])\n",
    "    b_list.append(W_hat[1])\n",
    "    loss_list.append(loss)\n",
    "    #print(loss)\n",
    "    if loss < 1e-3 or Num > 600 :\n",
    "        break"
   ]
  },
  {
   "cell_type": "code",
   "execution_count": 16,
   "metadata": {},
   "outputs": [
    {
     "data": {
      "text/plain": [
       "(10.801624301243987, array([3.93360719]), array([2.0017061]))"
      ]
     },
     "execution_count": 16,
     "metadata": {},
     "output_type": "execute_result"
    }
   ],
   "source": [
    "loss_list[-1],w_list[-1],b_list[-1]"
   ]
  },
  {
   "cell_type": "code",
   "execution_count": 17,
   "metadata": {},
   "outputs": [
    {
     "data": {
      "text/plain": [
       "[<matplotlib.lines.Line2D at 0x13ece13db08>]"
      ]
     },
     "execution_count": 17,
     "metadata": {},
     "output_type": "execute_result"
    },
    {
     "data": {
      "image/png": "[encoded data removed]",
      "text/plain": [
       "<Figure size 432x288 with 1 Axes>"
      ]
     },
     "metadata": {
      "needs_background": "light"
     },
     "output_type": "display_data"
    }
   ],
   "source": [
    "plt.plot(range(len(w_list)),loss_list)"
   ]
  },
  {
   "cell_type": "code",
   "execution_count": 18,
   "metadata": {},
   "outputs": [
    {
     "data": {
      "text/plain": [
       "[<matplotlib.lines.Line2D at 0x13ece180b88>]"
      ]
     },
     "execution_count": 18,
     "metadata": {},
     "output_type": "execute_result"
    },
    {
     "data": {
      "image/png": "[encoded data removed]",
      "text/plain": [
       "<Figure size 432x288 with 1 Axes>"
      ]
     },
     "metadata": {
      "needs_background": "light"
     },
     "output_type": "display_data"
    }
   ],
   "source": [
    "plt.plot(w_list,c='r')\n",
    "plt.plot(b_list,c='g')"
   ]
  },
  {
   "cell_type": "code",
   "execution_count": 19,
   "metadata": {},
   "outputs": [
    {
     "data": {
      "image/png": "[encoded data removed]",
      "text/plain": [
       "<Figure size 432x288 with 1 Axes>"
      ]
     },
     "metadata": {
      "needs_background": "light"
     },
     "output_type": "display_data"
    }
   ],
   "source": [
    "plt.title(\"Least squares\")\n",
    "c = train_data[:,:-1]*w_list[-1]+b_list[-1]\n",
    "\n",
    "plt.scatter(train_data[:,:-1],train_data[:,-1],color='red',marker='<',label='data')#ls或linestyle\n",
    "plt.plot(train_data[:,:-1],c,color='blue',label='cuve')\n",
    "plt.legend()\n",
    "\n",
    "plt.show()"
   ]
  }
 ],
 "metadata": {
  "kernelspec": {
   "display_name": "Python 3",
   "language": "python",
   "name": "python3"
  },
  "language_info": {
   "codemirror_mode": {
    "name": "ipython",
    "version": 3
   },
   "file_extension": ".py",
   "mimetype": "text/x-python",
   "name": "python",
   "nbconvert_exporter": "python",
   "pygments_lexer": "ipython3",
   "version": "3.7.6"
  }
 },
 "nbformat": 4,
 "nbformat_minor": 4
}
