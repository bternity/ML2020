{
 "cells": [
  {
   "cell_type": "markdown",
   "metadata": {},
   "source": [
    "## 梯度下降法推导\n",
    "    其方法基于一阶泰勒展开式"
   ]
  },
  {
   "cell_type": "markdown",
   "metadata": {},
   "source": [
    "设有多元函数X:$ X=\\left[ x_1,x_2,x_3,......,x_n \\right] $,\n",
    "    且有关系$ f $使得$ f(X) = f\\left( x_1,x_2,x_3,......,x_n \\right) $"
   ]
  },
  {
   "cell_type": "markdown",
   "metadata": {},
   "source": [
    "$$\n",
    "f\\left( X \\right) =f\\left( X_0 \\right) +\\left( \\nabla f\\left( X \\right) \\right) ^T\\cdot \\left( X-X_0 \\right) +o\\left( \\left( X-X_0 \\right) ^2 \\right) \n",
    "$$"
   ]
  },
  {
   "cell_type": "markdown",
   "metadata": {},
   "source": [
    "上式中，当$X-X_0$比较小时，才有较高的精度(适用于凸函数)。\n",
    "\n",
    "设$X-X_0=\\alpha \\cdot u$，$ \\alpha $表示学习率，$u$表示$X-X_0$的单位矢量。\n",
    "\n",
    "因此，当$X-X_0$很小时，忽略二阶精度，展开式等价于：\n",
    "$$\n",
    "f\\left( X \\right) -f\\left( X_0 \\right) =\\left( \\nabla f\\left( X \\right) \\right) ^T\\alpha \\cdot u\n",
    "$$"
   ]
  },
  {
   "cell_type": "markdown",
   "metadata": {},
   "source": [
    "上式中，可以认为$ f(X_0) $表示上一瞬时损失函数的值，$ f(X) $表示此瞬时的值。\n",
    "我们期望有：\n",
    "$$\n",
    "f\\left( X \\right) -f\\left( X_0 \\right) <0\n",
    "$$\n",
    "且满足：\n",
    "$$\n",
    "\\max \\left( f\\left( X \\right) -f\\left( X_0 \\right) \\right) \n",
    "$$"
   ]
  },
  {
   "cell_type": "markdown",
   "metadata": {},
   "source": [
    "忽略标量$\\alpha $，则上式转化为求：\n",
    "$$\n",
    "\\min \\left( u^T\\cdot \\nabla f\\left( X \\right) \\right) \n",
    "$$\n",
    "在n维空间中，向量方向相反时，可得到最小值。"
   ]
  },
  {
   "cell_type": "markdown",
   "metadata": {},
   "source": [
    "即：\n",
    "$$\n",
    "u^T\\cdot \\nabla f\\left( X \\right) =|u|\\cdot |\\nabla f\\left( X \\right) |\\cos <u,\\nabla f\\left( X \\right) >\n",
    "$$\n",
    "当$\\cos <u,\\nabla f\\left( X \\right) =\\pi $时取得最小值，既有："
   ]
  },
  {
   "cell_type": "markdown",
   "metadata": {},
   "source": [
    "$$\n",
    "\\min \\left( f\\left( X \\right) -f\\left( X_0 \\right) \\right) =-\\alpha \\cdot |u|\\cdot |\\nabla f\\left( X \\right) | = -\\alpha \\cdot |\\nabla f\\left( X \\right)|\n",
    "$$"
   ]
  },
  {
   "cell_type": "markdown",
   "metadata": {},
   "source": [
    "所以得到：\n",
    "$$\n",
    "u=-\\frac{\\nabla f\\left( X \\right)}{|\\nabla f\\left( X \\right) |}\n",
    "$$\n",
    "即得：\n",
    "$$\n",
    "X-X_0=-\\alpha \\cdot \\frac{\\nabla f\\left( X \\right)}{|\\nabla f\\left( X \\right) |}=-\\beta \\cdot \\nabla f\\left( X \\right) \n",
    "$$\n",
    "\n",
    "证毕"
   ]
  }
 ],
 "metadata": {
  "kernelspec": {
   "display_name": "Python 3",
   "language": "python",
   "name": "python3"
  },
  "language_info": {
   "codemirror_mode": {
    "name": "ipython",
    "version": 3
   },
   "file_extension": ".py",
   "mimetype": "text/x-python",
   "name": "python",
   "nbconvert_exporter": "python",
   "pygments_lexer": "ipython3",
   "version": "3.7.0"
  }
 },
 "nbformat": 4,
 "nbformat_minor": 4
}
