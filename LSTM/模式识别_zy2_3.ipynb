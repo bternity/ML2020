{
 "cells": [
  {
   "cell_type": "code",
   "execution_count": 1,
   "metadata": {},
   "outputs": [],
   "source": [
    "import numpy as np\n",
    "import math\n",
    "import matplotlib as mpl\n",
    "import matplotlib.pyplot as plt"
   ]
  },
  {
   "cell_type": "code",
   "execution_count": 2,
   "metadata": {},
   "outputs": [],
   "source": [
    "w1 = np.array([[0.1,1.1],[6.8,7.7],[-3.5,-4.1],[2,2.7],[4.1,2.8],[3.1,5],[-0.8,-1.3],[0.9,1.2],[5,6.4],[3.9,4.0]])\n",
    "w2 = np.array([[7.1,4.2],[-1.4,-4.3],[4.5,0],[6.3,1.6],[4.2,1.9],[1.4,-3.2],[2.4,-4],[2.5,-6.1],[8.4,3.7],[4.1,-2.2]])\n",
    "\n",
    "w3 = np.array([[-3,-2.9],[0.5,8.7],[2.9,2.1],[-0.1,5.2],[-4,2.2],[-1.3,3.7],[-3.4,6.2],[-4.1,3.4],[-5.1,1.6],[1.9,5.1]])\n",
    "w4 = np.array([[-2,-8.4],[-8.9,0.2],[-4.2,-7.7],[-8.5,-3.2],[-6.7,-4],[-0.5,-9.2],[-5.3,-6.7],[-8.7,-6.4],[-7.1,-9.7],[-8,-6.3]])"
   ]
  },
  {
   "cell_type": "code",
   "execution_count": 3,
   "metadata": {},
   "outputs": [
    {
     "data": {
      "text/plain": [
       "(10, 1)"
      ]
     },
     "execution_count": 3,
     "metadata": {},
     "output_type": "execute_result"
    }
   ],
   "source": [
    "one = np.ones((10)).reshape(-1,1)\n",
    "one.shape"
   ]
  },
  {
   "cell_type": "code",
   "execution_count": 4,
   "metadata": {},
   "outputs": [],
   "source": [
    "#增广\n",
    "w1_t = np.append(w1,one, axis=1)\n",
    "w2_t = np.append(w2,one, axis=1)\n",
    "w3_t = np.append(w4,one, axis=1)\n",
    "w4_t = np.append(w4,one, axis=1)"
   ]
  },
  {
   "cell_type": "code",
   "execution_count": 5,
   "metadata": {},
   "outputs": [],
   "source": [
    "#权重向量a，学习率lr\n",
    "a  = np.array((0,1,0)).reshape(1,-1)\n",
    "lr = 0.5\n"
   ]
  },
  {
   "cell_type": "code",
   "execution_count": 6,
   "metadata": {},
   "outputs": [
    {
     "data": {
      "text/plain": [
       "(20, 3)"
      ]
     },
     "execution_count": 6,
     "metadata": {},
     "output_type": "execute_result"
    }
   ],
   "source": [
    "W1 =np.append(w1_t,-w2_t,axis=0) #规范化\n",
    "W2 =np.append(w3_t,-w2_t,axis=0) #规范化\n",
    "W1.shape"
   ]
  },
  {
   "cell_type": "code",
   "execution_count": 7,
   "metadata": {},
   "outputs": [
    {
     "name": "stdout",
     "output_type": "stream",
     "text": [
      "[[0 1 0]]\n",
      "[[-15.15  -7.4   -1.  ]]\n",
      "[[-3.45 14.85  1.5 ]]\n",
      "[[-18.6    6.45   0.5 ]]\n"
     ]
    }
   ],
   "source": [
    "k = 0#迭代次数\n",
    "for i in range(0,80):\n",
    "    sg = np.trunc((1-np.sign(np.dot(W1,a.T)))/2) #判断ay乘机是否小于0\n",
    "    A1 = W1*sg#\n",
    "    C = np.sum(A1,axis=0).reshape(1,-1)\n",
    "    print(a)\n",
    "    a = a + lr*C\n",
    "    if A1.min()>=0: #表示ay都大于等于0\n",
    "        break\n",
    "    k+=1    "
   ]
  },
  {
   "cell_type": "code",
   "execution_count": 8,
   "metadata": {},
   "outputs": [
    {
     "data": {
      "text/plain": [
       "array([[ 0.1,  1.1],\n",
       "       [ 6.8,  7.7],\n",
       "       [-3.5, -4.1],\n",
       "       [ 2. ,  2.7],\n",
       "       [ 4.1,  2.8],\n",
       "       [ 3.1,  5. ],\n",
       "       [-0.8, -1.3],\n",
       "       [ 0.9,  1.2]])"
      ]
     },
     "execution_count": 8,
     "metadata": {},
     "output_type": "execute_result"
    }
   ],
   "source": [
    "w1[0:8,:]"
   ]
  },
  {
   "cell_type": "code",
   "execution_count": 9,
   "metadata": {},
   "outputs": [
    {
     "data": {
      "text/plain": [
       "(2, 14)"
      ]
     },
     "execution_count": 9,
     "metadata": {},
     "output_type": "execute_result"
    }
   ],
   "source": [
    "X1 = np.append(w1[0:7,:].T,w2[0:7,:].T,axis=1)\n",
    "X1.shape"
   ]
  },
  {
   "cell_type": "code",
   "execution_count": 10,
   "metadata": {},
   "outputs": [
    {
     "data": {
      "text/plain": [
       "((3, 32), (3, 8))"
      ]
     },
     "execution_count": 10,
     "metadata": {},
     "output_type": "execute_result"
    }
   ],
   "source": [
    "X1 = np.append(w1_t[0:8,:].T,w2_t[0:8,:].T,axis=1)\n",
    "X2 = np.append(w3_t[0:8,:].T,w4_t[0:8,:].T,axis=1)\n",
    "X_train = np.append(X1,X2,axis=1)\n",
    "X_v = np.append(np.append(w1_t[8:10,:].T,w2_t[8:10,:].T,axis=1),np.append(w3_t[8:10,:].T,w4_t[8:10,:].T,axis=1),axis=1)\n",
    "X_train.shape,X_v.shape"
   ]
  },
  {
   "cell_type": "code",
   "execution_count": 11,
   "metadata": {},
   "outputs": [
    {
     "data": {
      "text/plain": [
       "array([[9.54117361e-01, 9.97194391e-01],\n",
       "       [3.96958489e-01, 9.68409941e-02],\n",
       "       [7.93132042e-04, 3.85103516e-01],\n",
       "       [4.37857077e-01, 4.88715752e-01]])"
      ]
     },
     "execution_count": 11,
     "metadata": {},
     "output_type": "execute_result"
    }
   ],
   "source": [
    "W_ems = np.random.rand(4,2)\n",
    "W_ems"
   ]
  },
  {
   "cell_type": "code",
   "execution_count": 12,
   "metadata": {},
   "outputs": [
    {
     "data": {
      "text/plain": [
       "((1, 8), (3, 8))"
      ]
     },
     "execution_count": 12,
     "metadata": {},
     "output_type": "execute_result"
    }
   ],
   "source": [
    "y1 = np.ones((1,8))\n",
    "y2 = np.zeros((3,8))\n",
    "y1.shape,y2.shape"
   ]
  },
  {
   "cell_type": "code",
   "execution_count": 13,
   "metadata": {},
   "outputs": [],
   "source": [
    "y11 = np.append(y1,y2,axis=0)\n",
    "y22 = np.insert(y2,1,y1,axis = 0)\n",
    "y33 = np.insert(y2,2,y1,axis = 0)\n",
    "y44 = np.insert(y2,3,y1,axis = 0)\n",
    "y12 = np.append(y11,y22,axis = 1)\n",
    "y34 = np.append(y33,y44,axis = 1)\n",
    "Y_train = np.append(y12,y34,axis = 1)"
   ]
  },
  {
   "cell_type": "code",
   "execution_count": 14,
   "metadata": {},
   "outputs": [],
   "source": [
    "W = np.dot(np.dot(np.linalg.inv(np.dot(X_train,X_train.T)+0.01),X_train),Y_train.T)\n"
   ]
  },
  {
   "cell_type": "code",
   "execution_count": 15,
   "metadata": {},
   "outputs": [
    {
     "name": "stdout",
     "output_type": "stream",
     "text": [
      "[[ 0.00609391  0.05719392 -0.0316472  -0.0316472 ]\n",
      " [ 0.05245566 -0.01633877 -0.01808472 -0.01808472]\n",
      " [ 0.39967837  0.2953755   0.15224149  0.15224149]]\n"
     ]
    }
   ],
   "source": [
    "print(W.reshape(-1,4))"
   ]
  },
  {
   "cell_type": "code",
   "execution_count": 16,
   "metadata": {},
   "outputs": [
    {
     "data": {
      "text/plain": [
       "array([[ 5. ,  3.9,  8.4,  4.1, -7.1, -8. , -7.1, -8. ],\n",
       "       [ 6.4,  4. ,  3.7, -2.2, -9.7, -6.3, -9.7, -6.3],\n",
       "       [ 1. ,  1. ,  1. ,  1. ,  1. ,  1. ,  1. ,  1. ]])"
      ]
     },
     "execution_count": 16,
     "metadata": {},
     "output_type": "execute_result"
    }
   ],
   "source": [
    "X_v"
   ]
  },
  {
   "cell_type": "code",
   "execution_count": 17,
   "metadata": {},
   "outputs": [
    {
     "data": {
      "text/plain": [
       "array([[ 0.7658641 ,  0.476777  , -0.12173673, -0.12173673],\n",
       "       [ 0.63326723,  0.45307673, -0.04352147, -0.04352147],\n",
       "       [ 0.64495311,  0.71535101, -0.18050845, -0.18050845],\n",
       "       [ 0.30926094,  0.56581587,  0.06227436,  0.06227436],\n",
       "       [-0.15240823,  0.04778469,  0.55235839,  0.55235839],\n",
       "       [ 0.02045649, -0.05924165,  0.51935282,  0.51935282],\n",
       "       [-0.15240823,  0.04778469,  0.55235839,  0.55235839],\n",
       "       [ 0.02045649, -0.05924165,  0.51935282,  0.51935282]])"
      ]
     },
     "execution_count": 17,
     "metadata": {},
     "output_type": "execute_result"
    }
   ],
   "source": [
    "y = np.dot(W.T,X_v)\n",
    "y.T"
   ]
  }
 ],
 "metadata": {
  "kernelspec": {
   "display_name": "Python 3",
   "language": "python",
   "name": "python3"
  },
  "language_info": {
   "codemirror_mode": {
    "name": "ipython",
    "version": 3
   },
   "file_extension": ".py",
   "mimetype": "text/x-python",
   "name": "python",
   "nbconvert_exporter": "python",
   "pygments_lexer": "ipython3",
   "version": "3.7.6"
  }
 },
 "nbformat": 4,
 "nbformat_minor": 4
}
