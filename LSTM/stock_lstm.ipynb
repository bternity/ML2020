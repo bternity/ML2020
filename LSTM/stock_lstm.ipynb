{
 "cells": [
  {
   "cell_type": "code",
   "execution_count": 1,
   "metadata": {},
   "outputs": [],
   "source": [
    "# Import需要的套件\n",
    "import os\n",
    "import numpy as np\n",
    "import cv2\n",
    "import torch\n",
    "import torch.nn as nn\n",
    "import torchvision.transforms as transforms\n",
    "import pandas as pd\n",
    "from torch.utils.data import DataLoader, Dataset\n",
    "import math, time\n",
    "import torchvision.models as models\n",
    "from sklearn.metrics import mean_squared_error\n",
    "\n",
    "from sklearn.preprocessing import StandardScaler\n",
    "from tensorboardX import SummaryWriter\n",
    "\n",
    "import matplotlib as mpl\n",
    "import matplotlib.pyplot as plt\n",
    "\n",
    "from sklearn.preprocessing import MinMaxScaler"
   ]
  },
  {
   "cell_type": "markdown",
   "metadata": {},
   "source": [
    "## 数据处理"
   ]
  },
  {
   "cell_type": "markdown",
   "metadata": {},
   "source": [
    "## 通过本脚本可以在yahoo获得AAPL股市详情\n",
    "'''\n",
    "import datetime\n",
    "import pandas as pd\n",
    "import pandas_datareader.data as web\n",
    "start = datetime.datetime(2012,1,1) # or start = '1/1/2016'\n",
    "end = datetime.date.today()\n",
    "prices = web.DataReader('AAPL', 'yahoo', start, end)\n",
    "actions = web.DataReader('AAPL', 'yahoo-actions', start, end)\n",
    "##把得到的数据变成csv文件\n",
    "prices.to_csv('./stock\\\\AAPL.csv')\n",
    "'''"
   ]
  },
  {
   "cell_type": "code",
   "execution_count": 2,
   "metadata": {},
   "outputs": [],
   "source": [
    "#数据读入\n",
    "s_data      = pd.read_csv('./stock\\\\AAPL.csv', parse_dates=True)\n",
    "s_data_copy = s_data"
   ]
  },
  {
   "cell_type": "code",
   "execution_count": 3,
   "metadata": {},
   "outputs": [
    {
     "data": {
      "image/png": "[encoded data removed]",
      "text/plain": [
       "<Figure size 432x288 with 1 Axes>"
      ]
     },
     "metadata": {
      "needs_background": "light"
     },
     "output_type": "display_data"
    }
   ],
   "source": [
    "# 绘制最近的股价变化\n",
    "plt.rcParams['font.sans-serif']=['SimHei']\n",
    "plt.rcParams['axes.unicode_minus'] = False\n",
    "\n",
    "t=2165\n",
    "plt.plot(s_data[\"Date\"][t:],s_data[\"Close\"][t:],'b',lw=2.5)\n",
    "plt.plot(s_data[\"Date\"][t:],s_data[\"Open\"][t:],'r',lw=2.5)\n",
    "plt.legend([\"close\",\"open\"])\n",
    "plt.grid(True)\n",
    "plt.axis('tight')\n",
    "plt.xlabel('时间')\n",
    "plt.ylabel('股价')\n",
    "plt.title('股价随时间变换')\n",
    "plt.setp(plt.gca().get_xticklabels(),rotation=50) #日期倾斜\n",
    "plt.savefig('gs.png', dpi = 750)\n",
    "plt.show()"
   ]
  },
  {
   "cell_type": "code",
   "execution_count": 4,
   "metadata": {},
   "outputs": [],
   "source": [
    "Date_s = s_data[\"Date\"]#提取时间参数\n",
    "Date_s = np.array(Date_s)\n",
    "Date_s = Date_s[20:]\n",
    "s_data = s_data.drop(columns = ['Date'])#数据去除时间参数"
   ]
  },
  {
   "cell_type": "code",
   "execution_count": 5,
   "metadata": {},
   "outputs": [],
   "source": [
    "#数据归一化\n",
    "s_data  = s_data.fillna(method='ffill')\n",
    "sel_col = ['High', 'Low', 'Open', 'Close', 'Volume','Adj Close']\n",
    "scaler  = MinMaxScaler(feature_range=(0, 1))#放缩到0-1\n",
    "for col in sel_col:\n",
    "    s_data[col] = scaler.fit_transform(s_data[col].values.reshape(-1,1))\n",
    "#转化成tensor\n",
    "s_data  = np.array(s_data)\n",
    "s_data  = torch.tensor(s_data)#形成tensor"
   ]
  },
  {
   "cell_type": "code",
   "execution_count": 6,
   "metadata": {},
   "outputs": [
    {
     "name": "stdout",
     "output_type": "stream",
     "text": [
      "读取数据的天数 2179\n",
      "可以预测的天数 2159\n"
     ]
    }
   ],
   "source": [
    "sqe_len = 20 #前20天数据得到今天的闭市股价\n",
    "stock_lenth = len(s_data) #数据长度\n",
    "tr_val_slip = int( 0.8 * stock_lenth) #总数据的前80%作为训练集，后20%作为验证集\n",
    "print(\"读取数据的天数\",stock_lenth)\n",
    "print(\"可以预测的天数\",stock_lenth - sqe_len)"
   ]
  },
  {
   "cell_type": "code",
   "execution_count": 7,
   "metadata": {},
   "outputs": [
    {
     "name": "stdout",
     "output_type": "stream",
     "text": [
      "torch.Size([1743, 20, 6]) torch.Size([416, 20, 6]) torch.Size([1743, 20, 1]) torch.Size([416, 20, 1])\n"
     ]
    }
   ],
   "source": [
    "x = torch.zeros(stock_lenth - sqe_len, sqe_len, 6)\n",
    "y = torch.zeros(stock_lenth - sqe_len,sqe_len, 1)\n",
    "\n",
    "for i in range(0, stock_lenth - sqe_len -1):\n",
    "    x[i] = s_data[i:i + sqe_len]#形成数据的输入\n",
    "    y[i] = s_data[i+1 : i + sqe_len + 1][:,3].reshape(-1,1)#第三列表示闭市价格，同时是数据的目标值\n",
    "#形成训练集和验证集合\n",
    "train_x = x[0:tr_val_slip]\n",
    "train_y = y[0:tr_val_slip]\n",
    "vaild_x = x[tr_val_slip:]\n",
    "vaild_y = y[tr_val_slip:]\n",
    "\n",
    "#train_y_init_close = Date_close[0:tr_val_slip]\n",
    "#vaild_y_init_close = Date_close[tr_val_slip + 20:]\n",
    "\n",
    "print(train_x.shape,vaild_x.shape,train_y.shape,vaild_y.shape)"
   ]
  },
  {
   "cell_type": "code",
   "execution_count": 8,
   "metadata": {},
   "outputs": [],
   "source": [
    "class StockDataset(Dataset):\n",
    "    def __init__(self, x, y):\n",
    "        self.x = x\n",
    "        self.y = y\n",
    "        \n",
    "    def __len__(self):\n",
    "        return len(self.x)\n",
    "    \n",
    "    def __getitem__(self,index):\n",
    "        X = self.x[index]\n",
    "        Y = self.y[index]\n",
    "        return X, Y"
   ]
  },
  {
   "cell_type": "code",
   "execution_count": 9,
   "metadata": {},
   "outputs": [],
   "source": [
    "batch_size = 1000\n",
    "train_set = StockDataset(train_x,train_y)\n",
    "vaild_set = StockDataset(vaild_x,vaild_y)\n",
    "train_loader = DataLoader(train_set,batch_size=batch_size,shuffle=False)\n",
    "vaild_loader = DataLoader(vaild_set,batch_size=batch_size,shuffle=False)"
   ]
  },
  {
   "cell_type": "code",
   "execution_count": 10,
   "metadata": {},
   "outputs": [
    {
     "name": "stdout",
     "output_type": "stream",
     "text": [
      "torch.Size([1743, 20, 1]) torch.Size([416, 20, 1])\n"
     ]
    }
   ],
   "source": [
    "print(train_loader.dataset.y.shape,vaild_loader.dataset.y.shape)"
   ]
  },
  {
   "cell_type": "markdown",
   "metadata": {},
   "source": [
    "## 模型"
   ]
  },
  {
   "cell_type": "code",
   "execution_count": 11,
   "metadata": {},
   "outputs": [],
   "source": [
    "#6个特征的输入以及“close_price”的输出\n",
    "input_dim  = 6\n",
    "hidden_dim = 256\n",
    "num_layers = 5\n",
    "output_dim = 1"
   ]
  },
  {
   "cell_type": "code",
   "execution_count": 12,
   "metadata": {},
   "outputs": [],
   "source": [
    "class Stock_LSTM_Regression(nn.Module):\n",
    "    def __init__(self,input_dim,hidden_dim,num_layers,output_dim):\n",
    "        super(Stock_LSTM_Regression,self).__init__()\n",
    "        #隐含层维度\n",
    "        self.hidden_dim = hidden_dim\n",
    "        #隐含层层数\n",
    "        self.num_layers = num_layers\n",
    "        \n",
    "        # Building LSTM\n",
    "        # batch_first=True causes input/output tensors to be of shape\n",
    "        # (batch_dim, seq_dim, feature_dim)\n",
    "        self.lstm = nn.LSTM(input_dim,hidden_dim,num_layers,batch_first = True)\n",
    "        \n",
    "        # Readout layer\n",
    "        self.fc = nn.Linear(hidden_dim,output_dim)\n",
    "        \n",
    "    def forward(self,x):\n",
    "        # Initialize hidden and cell state with zero\n",
    "        h0 = torch.zeros(self.num_layers,x.size(0),self.hidden_dim).requires_grad_().cuda()\n",
    "        c0 = torch.zeros(self.num_layers,x.size(0),self.hidden_dim).requires_grad_().cuda()\n",
    "        \n",
    "        # One time step\n",
    "        # We need to detach as we are doing truncated backpropagation through time (BPTT)\n",
    "        # If we don't, we'll backprop all the way to the start even after going through another batch\n",
    "        out, (hn, cn) = self.lstm(x, (h0.detach(), c0.detach()))\n",
    "        \n",
    "        out = self.fc(out) \n",
    "        return out"
   ]
  },
  {
   "cell_type": "code",
   "execution_count": 13,
   "metadata": {},
   "outputs": [
    {
     "name": "stdout",
     "output_type": "stream",
     "text": [
      "Stock_LSTM_Regression(\n",
      "  (lstm): LSTM(6, 256, num_layers=5, batch_first=True)\n",
      "  (fc): Linear(in_features=256, out_features=1, bias=True)\n",
      ")\n"
     ]
    }
   ],
   "source": [
    "modle_dome = Stock_LSTM_Regression(input_dim=input_dim, hidden_dim=hidden_dim, output_dim=output_dim, num_layers=num_layers).cuda()\n",
    "\n",
    "k = torch.rand(8,20,6).cuda()#随机生成一组输入数据\n",
    "\n",
    "with SummaryWriter(comment='lstm') as w:\n",
    "    w.add_graph(modle_dome, (k, ))\n",
    "\n",
    "print(modle_dome)"
   ]
  },
  {
   "cell_type": "code",
   "execution_count": 14,
   "metadata": {},
   "outputs": [],
   "source": [
    "Stock_LSTM    = Stock_LSTM_Regression(input_dim=input_dim, hidden_dim=hidden_dim, output_dim=output_dim, num_layers=num_layers).cuda()\n",
    "loss_function = nn.MSELoss()\n",
    "optimizer     = torch.optim.Adam(Stock_LSTM.parameters(), lr=2e-4)"
   ]
  },
  {
   "cell_type": "code",
   "execution_count": 15,
   "metadata": {},
   "outputs": [],
   "source": [
    "#判断当天股价是否涨，1表示涨\n",
    "def up_down(Price):\n",
    "    l = len(Price)\n",
    "    k = np.zeros((l-1))\n",
    "    for i in range(l-1):\n",
    "        if Price[i+1]>Price[i]:\n",
    "            k[i] = 1\n",
    "        else: k[i] = 0\n",
    "    return k\n",
    "\n",
    "def is_r(k):\n",
    "    v = 0\n",
    "    for i in range(len(k)):\n",
    "        v = v + (k[i]==0)\n",
    "    return v/len(k)"
   ]
  },
  {
   "cell_type": "markdown",
   "metadata": {},
   "source": [
    "# 训练"
   ]
  },
  {
   "cell_type": "code",
   "execution_count": 16,
   "metadata": {},
   "outputs": [
    {
     "name": "stdout",
     "output_type": "stream",
     "text": [
      "[100/1000] Tra_Loss: 0.008005,Tra_acc: 0.525606||val_Loss: 0.036739, val_acc: 0.571084\n",
      "[200/1000] Tra_Loss: 0.003042,Tra_acc: 0.536388||val_Loss: 0.013416, val_acc: 0.539759\n",
      "[300/1000] Tra_Loss: 0.001263,Tra_acc: 0.509434||val_Loss: 0.005917, val_acc: 0.491566\n",
      "[400/1000] Tra_Loss: 0.000346,Tra_acc: 0.505391||val_Loss: 0.002094, val_acc: 0.455422\n",
      "[500/1000] Tra_Loss: 0.000124,Tra_acc: 0.518868||val_Loss: 0.001428, val_acc: 0.460241\n",
      "[600/1000] Tra_Loss: 0.000080,Tra_acc: 0.517520||val_Loss: 0.001315, val_acc: 0.462651\n",
      "[700/1000] Tra_Loss: 0.000067,Tra_acc: 0.520216||val_Loss: 0.001199, val_acc: 0.472289\n",
      "[800/1000] Tra_Loss: 0.000062,Tra_acc: 0.517520||val_Loss: 0.001115, val_acc: 0.465060\n",
      "[900/1000] Tra_Loss: 0.000058,Tra_acc: 0.505391||val_Loss: 0.001016, val_acc: 0.455422\n",
      "训练以及验证的总运行总时间： 153.49028182029724\n"
     ]
    }
   ],
   "source": [
    "num_epoch = 1000\n",
    "tol_tiem = time.time()\n",
    "\n",
    "for epoch in range(num_epoch):\n",
    "    epoch_start_time = time.time()\n",
    "    train_loss = 0\n",
    "    train_acc  = 0.0\n",
    "    val_loss   = 0\n",
    "    val_acc    = 0.0\n",
    "        \n",
    "    Stock_LSTM.train()\n",
    "    for i,(inpute_t, y_t) in enumerate(train_loader):\n",
    "        optimizer.zero_grad()\n",
    "        y_pred = Stock_LSTM(inpute_t.cuda())\n",
    "        loss   = loss_function(y_pred,y_t.cuda())        \n",
    "        loss.backward()\n",
    "        optimizer.step()\n",
    "        train_loss += loss.item()\n",
    "    \n",
    "    toc = up_down(y_pred.cpu().detach().numpy()[:,-1,0].reshape(-1,1)) - up_down(y_t.cpu().detach().numpy()[:,-1,0].reshape(-1,1))\n",
    "\n",
    "        \n",
    "    Stock_LSTM.eval()\n",
    "    with torch.no_grad():\n",
    "        for i,(inpute_v, y_v) in enumerate(vaild_loader):\n",
    "            val_pred = Stock_LSTM(inpute_v.cuda())\n",
    "            loss     = loss_function(val_pred,y_v.cuda())\n",
    "            val_loss += loss.item()\n",
    "    \n",
    "    voc = up_down(val_pred.cpu().detach().numpy()[:,-1,0].reshape(-1,1)) - up_down(y_v.cpu().detach().numpy()[:,-1,0].reshape(-1,1))\n",
    "               \n",
    "    if epoch % 100 == 0 and epoch != 0:\n",
    "        print('[%03d/%03d] Tra_Loss: %3.6f,Tra_acc: %3.6f||val_Loss: %3.6f, val_acc: %3.6f' % (epoch, num_epoch,train_loss,is_r(toc),val_loss,is_r(voc)))\n",
    "        \n",
    "print(\"训练以及验证的总运行总时间：\",time.time() - tol_tiem)  "
   ]
  },
  {
   "cell_type": "code",
   "execution_count": 17,
   "metadata": {},
   "outputs": [
    {
     "data": {
      "text/plain": [
       "torch.Size([416, 20, 1])"
      ]
     },
     "execution_count": 17,
     "metadata": {},
     "output_type": "execute_result"
    }
   ],
   "source": [
    "y_vaild_pred = Stock_LSTM(vaild_loader.dataset.x.cuda()).cpu()\n",
    "y_pred = y_pred.cpu()\n",
    "y_vaild_pred.shape"
   ]
  },
  {
   "cell_type": "code",
   "execution_count": 18,
   "metadata": {},
   "outputs": [],
   "source": [
    "y = scaler.inverse_transform(vaild_loader.dataset.y.detach().numpy()[:,-1,0].reshape(-1,1))\n",
    "y_vaild_pred = scaler.inverse_transform(y_vaild_pred.detach().numpy()[:,-1,0].reshape(-1,1))"
   ]
  },
  {
   "cell_type": "code",
   "execution_count": 19,
   "metadata": {},
   "outputs": [
    {
     "data": {
      "text/plain": [
       "((416, 1), (416, 1))"
      ]
     },
     "execution_count": 19,
     "metadata": {},
     "output_type": "execute_result"
    }
   ],
   "source": [
    "y.shape,y_vaild_pred.shape"
   ]
  },
  {
   "cell_type": "code",
   "execution_count": 24,
   "metadata": {},
   "outputs": [
    {
     "data": {
      "image/png": "[encoded data removed]",
      "text/plain": [
       "<Figure size 432x288 with 1 Axes>"
      ]
     },
     "metadata": {
      "needs_background": "light"
     },
     "output_type": "display_data"
    }
   ],
   "source": [
    "c = 0\n",
    "plt.rcParams['font.sans-serif']=['SimHei']\n",
    "plt.rcParams['axes.unicode_minus'] = False\n",
    "\n",
    "plt.plot(y_vaild_pred[c:len(y)-1],'b',lw=2.5)\n",
    "plt.plot(y[c:len(y)-1],'r',lw=2.5)\n",
    "\n",
    "#plt.scatter(Date_s[len(Date_s) - (len(y) - c - 1):len(Date_s)],y_vaild_pred[c:len(y)-1],'b',lw=2.5)\n",
    "#plt.scatter(Date_s[len(Date_s) - (len(y) - c - 1):len(Date_s)],'r',lw=2.5)\n",
    "\n",
    "plt.legend([\"根据前20天数据得到今天的预测值\",\"每天的真实值\"])\n",
    "plt.grid(True)\n",
    "plt.axis('tight')\n",
    "plt.xlabel('时间')\n",
    "plt.ylabel('股价')\n",
    "plt.title('股价随时间变换')\n",
    "plt.setp(plt.gca().get_xticklabels(),rotation=50) #日期倾斜\n",
    "plt.savefig('glp.png', dpi = 750)\n",
    "\n",
    "plt.show()"
   ]
  }
 ],
 "metadata": {
  "kernelspec": {
   "display_name": "Python 3",
   "language": "python",
   "name": "python3"
  },
  "language_info": {
   "codemirror_mode": {
    "name": "ipython",
    "version": 3
   },
   "file_extension": ".py",
   "mimetype": "text/x-python",
   "name": "python",
   "nbconvert_exporter": "python",
   "pygments_lexer": "ipython3",
   "version": "3.7.6"
  }
 },
 "nbformat": 4,
 "nbformat_minor": 4
}
